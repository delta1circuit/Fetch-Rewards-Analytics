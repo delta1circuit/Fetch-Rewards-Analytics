{
  "nbformat": 4,
  "nbformat_minor": 0,
  "metadata": {
    "colab": {
      "provenance": []
    },
    "kernelspec": {
      "name": "python3",
      "display_name": "Python 3"
    },
    "language_info": {
      "name": "python"
    }
  },
  "cells": [
    {
      "cell_type": "code",
      "source": [
        "import pandas as pd\n",
        "import numpy as np\n",
        "import json\n",
        "from matplotlib import pyplot as plt\n",
        "import seaborn as sns"
      ],
      "metadata": {
        "id": "Tgu622q4uYfa"
      },
      "execution_count": 13,
      "outputs": []
    },
    {
      "cell_type": "markdown",
      "source": [
        "# Converting users.json to users.csv and performaing data cleaning"
      ],
      "metadata": {
        "id": "fBEjBHbI0xVd"
      }
    },
    {
      "cell_type": "code",
      "source": [
        "with open('users.json', 'r') as file:\n",
        "    json_data = [json.loads(line) for line in file]\n",
        "\n",
        "users_df = pd.json_normalize(json_data)"
      ],
      "metadata": {
        "id": "ga6cEzzeujDP"
      },
      "execution_count": 14,
      "outputs": []
    },
    {
      "cell_type": "code",
      "source": [
        "users_df.head()"
      ],
      "metadata": {
        "colab": {
          "base_uri": "https://localhost:8080/",
          "height": 206
        },
        "id": "F9fX6pjuumfe",
        "outputId": "fb0c6b63-ae45-4926-cac2-99988fe21c65"
      },
      "execution_count": 15,
      "outputs": [
        {
          "output_type": "execute_result",
          "data": {
            "text/plain": [
              "   active      role signUpSource state                  _id.$oid  \\\n",
              "0    True  consumer        Email    WI  5ff1e194b6a9d73a3a9f1052   \n",
              "1    True  consumer        Email    WI  5ff1e194b6a9d73a3a9f1052   \n",
              "2    True  consumer        Email    WI  5ff1e194b6a9d73a3a9f1052   \n",
              "3    True  consumer        Email    WI  5ff1e1eacfcf6c399c274ae6   \n",
              "4    True  consumer        Email    WI  5ff1e194b6a9d73a3a9f1052   \n",
              "\n",
              "   createdDate.$date  lastLogin.$date  \n",
              "0      1609687444800     1.609688e+12  \n",
              "1      1609687444800     1.609688e+12  \n",
              "2      1609687444800     1.609688e+12  \n",
              "3      1609687530554     1.609688e+12  \n",
              "4      1609687444800     1.609688e+12  "
            ],
            "text/html": [
              "\n",
              "  <div id=\"df-f7d53dcd-1692-47b4-ba11-2257b97c144a\" class=\"colab-df-container\">\n",
              "    <div>\n",
              "<style scoped>\n",
              "    .dataframe tbody tr th:only-of-type {\n",
              "        vertical-align: middle;\n",
              "    }\n",
              "\n",
              "    .dataframe tbody tr th {\n",
              "        vertical-align: top;\n",
              "    }\n",
              "\n",
              "    .dataframe thead th {\n",
              "        text-align: right;\n",
              "    }\n",
              "</style>\n",
              "<table border=\"1\" class=\"dataframe\">\n",
              "  <thead>\n",
              "    <tr style=\"text-align: right;\">\n",
              "      <th></th>\n",
              "      <th>active</th>\n",
              "      <th>role</th>\n",
              "      <th>signUpSource</th>\n",
              "      <th>state</th>\n",
              "      <th>_id.$oid</th>\n",
              "      <th>createdDate.$date</th>\n",
              "      <th>lastLogin.$date</th>\n",
              "    </tr>\n",
              "  </thead>\n",
              "  <tbody>\n",
              "    <tr>\n",
              "      <th>0</th>\n",
              "      <td>True</td>\n",
              "      <td>consumer</td>\n",
              "      <td>Email</td>\n",
              "      <td>WI</td>\n",
              "      <td>5ff1e194b6a9d73a3a9f1052</td>\n",
              "      <td>1609687444800</td>\n",
              "      <td>1.609688e+12</td>\n",
              "    </tr>\n",
              "    <tr>\n",
              "      <th>1</th>\n",
              "      <td>True</td>\n",
              "      <td>consumer</td>\n",
              "      <td>Email</td>\n",
              "      <td>WI</td>\n",
              "      <td>5ff1e194b6a9d73a3a9f1052</td>\n",
              "      <td>1609687444800</td>\n",
              "      <td>1.609688e+12</td>\n",
              "    </tr>\n",
              "    <tr>\n",
              "      <th>2</th>\n",
              "      <td>True</td>\n",
              "      <td>consumer</td>\n",
              "      <td>Email</td>\n",
              "      <td>WI</td>\n",
              "      <td>5ff1e194b6a9d73a3a9f1052</td>\n",
              "      <td>1609687444800</td>\n",
              "      <td>1.609688e+12</td>\n",
              "    </tr>\n",
              "    <tr>\n",
              "      <th>3</th>\n",
              "      <td>True</td>\n",
              "      <td>consumer</td>\n",
              "      <td>Email</td>\n",
              "      <td>WI</td>\n",
              "      <td>5ff1e1eacfcf6c399c274ae6</td>\n",
              "      <td>1609687530554</td>\n",
              "      <td>1.609688e+12</td>\n",
              "    </tr>\n",
              "    <tr>\n",
              "      <th>4</th>\n",
              "      <td>True</td>\n",
              "      <td>consumer</td>\n",
              "      <td>Email</td>\n",
              "      <td>WI</td>\n",
              "      <td>5ff1e194b6a9d73a3a9f1052</td>\n",
              "      <td>1609687444800</td>\n",
              "      <td>1.609688e+12</td>\n",
              "    </tr>\n",
              "  </tbody>\n",
              "</table>\n",
              "</div>\n",
              "    <div class=\"colab-df-buttons\">\n",
              "\n",
              "  <div class=\"colab-df-container\">\n",
              "    <button class=\"colab-df-convert\" onclick=\"convertToInteractive('df-f7d53dcd-1692-47b4-ba11-2257b97c144a')\"\n",
              "            title=\"Convert this dataframe to an interactive table.\"\n",
              "            style=\"display:none;\">\n",
              "\n",
              "  <svg xmlns=\"http://www.w3.org/2000/svg\" height=\"24px\" viewBox=\"0 -960 960 960\">\n",
              "    <path d=\"M120-120v-720h720v720H120Zm60-500h600v-160H180v160Zm220 220h160v-160H400v160Zm0 220h160v-160H400v160ZM180-400h160v-160H180v160Zm440 0h160v-160H620v160ZM180-180h160v-160H180v160Zm440 0h160v-160H620v160Z\"/>\n",
              "  </svg>\n",
              "    </button>\n",
              "\n",
              "  <style>\n",
              "    .colab-df-container {\n",
              "      display:flex;\n",
              "      gap: 12px;\n",
              "    }\n",
              "\n",
              "    .colab-df-convert {\n",
              "      background-color: #E8F0FE;\n",
              "      border: none;\n",
              "      border-radius: 50%;\n",
              "      cursor: pointer;\n",
              "      display: none;\n",
              "      fill: #1967D2;\n",
              "      height: 32px;\n",
              "      padding: 0 0 0 0;\n",
              "      width: 32px;\n",
              "    }\n",
              "\n",
              "    .colab-df-convert:hover {\n",
              "      background-color: #E2EBFA;\n",
              "      box-shadow: 0px 1px 2px rgba(60, 64, 67, 0.3), 0px 1px 3px 1px rgba(60, 64, 67, 0.15);\n",
              "      fill: #174EA6;\n",
              "    }\n",
              "\n",
              "    .colab-df-buttons div {\n",
              "      margin-bottom: 4px;\n",
              "    }\n",
              "\n",
              "    [theme=dark] .colab-df-convert {\n",
              "      background-color: #3B4455;\n",
              "      fill: #D2E3FC;\n",
              "    }\n",
              "\n",
              "    [theme=dark] .colab-df-convert:hover {\n",
              "      background-color: #434B5C;\n",
              "      box-shadow: 0px 1px 3px 1px rgba(0, 0, 0, 0.15);\n",
              "      filter: drop-shadow(0px 1px 2px rgba(0, 0, 0, 0.3));\n",
              "      fill: #FFFFFF;\n",
              "    }\n",
              "  </style>\n",
              "\n",
              "    <script>\n",
              "      const buttonEl =\n",
              "        document.querySelector('#df-f7d53dcd-1692-47b4-ba11-2257b97c144a button.colab-df-convert');\n",
              "      buttonEl.style.display =\n",
              "        google.colab.kernel.accessAllowed ? 'block' : 'none';\n",
              "\n",
              "      async function convertToInteractive(key) {\n",
              "        const element = document.querySelector('#df-f7d53dcd-1692-47b4-ba11-2257b97c144a');\n",
              "        const dataTable =\n",
              "          await google.colab.kernel.invokeFunction('convertToInteractive',\n",
              "                                                    [key], {});\n",
              "        if (!dataTable) return;\n",
              "\n",
              "        const docLinkHtml = 'Like what you see? Visit the ' +\n",
              "          '<a target=\"_blank\" href=https://colab.research.google.com/notebooks/data_table.ipynb>data table notebook</a>'\n",
              "          + ' to learn more about interactive tables.';\n",
              "        element.innerHTML = '';\n",
              "        dataTable['output_type'] = 'display_data';\n",
              "        await google.colab.output.renderOutput(dataTable, element);\n",
              "        const docLink = document.createElement('div');\n",
              "        docLink.innerHTML = docLinkHtml;\n",
              "        element.appendChild(docLink);\n",
              "      }\n",
              "    </script>\n",
              "  </div>\n",
              "\n",
              "\n",
              "<div id=\"df-78a0f8ae-a776-48bb-9dfe-872feba768c8\">\n",
              "  <button class=\"colab-df-quickchart\" onclick=\"quickchart('df-78a0f8ae-a776-48bb-9dfe-872feba768c8')\"\n",
              "            title=\"Suggest charts\"\n",
              "            style=\"display:none;\">\n",
              "\n",
              "<svg xmlns=\"http://www.w3.org/2000/svg\" height=\"24px\"viewBox=\"0 0 24 24\"\n",
              "     width=\"24px\">\n",
              "    <g>\n",
              "        <path d=\"M19 3H5c-1.1 0-2 .9-2 2v14c0 1.1.9 2 2 2h14c1.1 0 2-.9 2-2V5c0-1.1-.9-2-2-2zM9 17H7v-7h2v7zm4 0h-2V7h2v10zm4 0h-2v-4h2v4z\"/>\n",
              "    </g>\n",
              "</svg>\n",
              "  </button>\n",
              "\n",
              "<style>\n",
              "  .colab-df-quickchart {\n",
              "      --bg-color: #E8F0FE;\n",
              "      --fill-color: #1967D2;\n",
              "      --hover-bg-color: #E2EBFA;\n",
              "      --hover-fill-color: #174EA6;\n",
              "      --disabled-fill-color: #AAA;\n",
              "      --disabled-bg-color: #DDD;\n",
              "  }\n",
              "\n",
              "  [theme=dark] .colab-df-quickchart {\n",
              "      --bg-color: #3B4455;\n",
              "      --fill-color: #D2E3FC;\n",
              "      --hover-bg-color: #434B5C;\n",
              "      --hover-fill-color: #FFFFFF;\n",
              "      --disabled-bg-color: #3B4455;\n",
              "      --disabled-fill-color: #666;\n",
              "  }\n",
              "\n",
              "  .colab-df-quickchart {\n",
              "    background-color: var(--bg-color);\n",
              "    border: none;\n",
              "    border-radius: 50%;\n",
              "    cursor: pointer;\n",
              "    display: none;\n",
              "    fill: var(--fill-color);\n",
              "    height: 32px;\n",
              "    padding: 0;\n",
              "    width: 32px;\n",
              "  }\n",
              "\n",
              "  .colab-df-quickchart:hover {\n",
              "    background-color: var(--hover-bg-color);\n",
              "    box-shadow: 0 1px 2px rgba(60, 64, 67, 0.3), 0 1px 3px 1px rgba(60, 64, 67, 0.15);\n",
              "    fill: var(--button-hover-fill-color);\n",
              "  }\n",
              "\n",
              "  .colab-df-quickchart-complete:disabled,\n",
              "  .colab-df-quickchart-complete:disabled:hover {\n",
              "    background-color: var(--disabled-bg-color);\n",
              "    fill: var(--disabled-fill-color);\n",
              "    box-shadow: none;\n",
              "  }\n",
              "\n",
              "  .colab-df-spinner {\n",
              "    border: 2px solid var(--fill-color);\n",
              "    border-color: transparent;\n",
              "    border-bottom-color: var(--fill-color);\n",
              "    animation:\n",
              "      spin 1s steps(1) infinite;\n",
              "  }\n",
              "\n",
              "  @keyframes spin {\n",
              "    0% {\n",
              "      border-color: transparent;\n",
              "      border-bottom-color: var(--fill-color);\n",
              "      border-left-color: var(--fill-color);\n",
              "    }\n",
              "    20% {\n",
              "      border-color: transparent;\n",
              "      border-left-color: var(--fill-color);\n",
              "      border-top-color: var(--fill-color);\n",
              "    }\n",
              "    30% {\n",
              "      border-color: transparent;\n",
              "      border-left-color: var(--fill-color);\n",
              "      border-top-color: var(--fill-color);\n",
              "      border-right-color: var(--fill-color);\n",
              "    }\n",
              "    40% {\n",
              "      border-color: transparent;\n",
              "      border-right-color: var(--fill-color);\n",
              "      border-top-color: var(--fill-color);\n",
              "    }\n",
              "    60% {\n",
              "      border-color: transparent;\n",
              "      border-right-color: var(--fill-color);\n",
              "    }\n",
              "    80% {\n",
              "      border-color: transparent;\n",
              "      border-right-color: var(--fill-color);\n",
              "      border-bottom-color: var(--fill-color);\n",
              "    }\n",
              "    90% {\n",
              "      border-color: transparent;\n",
              "      border-bottom-color: var(--fill-color);\n",
              "    }\n",
              "  }\n",
              "</style>\n",
              "\n",
              "  <script>\n",
              "    async function quickchart(key) {\n",
              "      const quickchartButtonEl =\n",
              "        document.querySelector('#' + key + ' button');\n",
              "      quickchartButtonEl.disabled = true;  // To prevent multiple clicks.\n",
              "      quickchartButtonEl.classList.add('colab-df-spinner');\n",
              "      try {\n",
              "        const charts = await google.colab.kernel.invokeFunction(\n",
              "            'suggestCharts', [key], {});\n",
              "      } catch (error) {\n",
              "        console.error('Error during call to suggestCharts:', error);\n",
              "      }\n",
              "      quickchartButtonEl.classList.remove('colab-df-spinner');\n",
              "      quickchartButtonEl.classList.add('colab-df-quickchart-complete');\n",
              "    }\n",
              "    (() => {\n",
              "      let quickchartButtonEl =\n",
              "        document.querySelector('#df-78a0f8ae-a776-48bb-9dfe-872feba768c8 button');\n",
              "      quickchartButtonEl.style.display =\n",
              "        google.colab.kernel.accessAllowed ? 'block' : 'none';\n",
              "    })();\n",
              "  </script>\n",
              "</div>\n",
              "\n",
              "    </div>\n",
              "  </div>\n"
            ],
            "application/vnd.google.colaboratory.intrinsic+json": {
              "type": "dataframe",
              "variable_name": "users_df",
              "summary": "{\n  \"name\": \"users_df\",\n  \"rows\": 495,\n  \"fields\": [\n    {\n      \"column\": \"active\",\n      \"properties\": {\n        \"dtype\": \"boolean\",\n        \"num_unique_values\": 2,\n        \"samples\": [\n          false,\n          true\n        ],\n        \"semantic_type\": \"\",\n        \"description\": \"\"\n      }\n    },\n    {\n      \"column\": \"role\",\n      \"properties\": {\n        \"dtype\": \"category\",\n        \"num_unique_values\": 2,\n        \"samples\": [\n          \"fetch-staff\",\n          \"consumer\"\n        ],\n        \"semantic_type\": \"\",\n        \"description\": \"\"\n      }\n    },\n    {\n      \"column\": \"signUpSource\",\n      \"properties\": {\n        \"dtype\": \"category\",\n        \"num_unique_values\": 2,\n        \"samples\": [\n          \"Google\",\n          \"Email\"\n        ],\n        \"semantic_type\": \"\",\n        \"description\": \"\"\n      }\n    },\n    {\n      \"column\": \"state\",\n      \"properties\": {\n        \"dtype\": \"category\",\n        \"num_unique_values\": 8,\n        \"samples\": [\n          \"KY\",\n          \"OH\"\n        ],\n        \"semantic_type\": \"\",\n        \"description\": \"\"\n      }\n    },\n    {\n      \"column\": \"_id.$oid\",\n      \"properties\": {\n        \"dtype\": \"category\",\n        \"num_unique_values\": 212,\n        \"samples\": [\n          \"5ff7930fb3348b11c93372a6\",\n          \"60182f4ac8b50e11d8454946\"\n        ],\n        \"semantic_type\": \"\",\n        \"description\": \"\"\n      }\n    },\n    {\n      \"column\": \"createdDate.$date\",\n      \"properties\": {\n        \"dtype\": \"number\",\n        \"std\": 44029700359,\n        \"min\": 1418998882381,\n        \"max\": 1613139066240,\n        \"num_unique_values\": 212,\n        \"samples\": [\n          1610060559759,\n          1612197706573\n        ],\n        \"semantic_type\": \"\",\n        \"description\": \"\"\n      }\n    },\n    {\n      \"column\": \"lastLogin.$date\",\n      \"properties\": {\n        \"dtype\": \"number\",\n        \"std\": 4430108918.516701,\n        \"min\": 1525713820003.0,\n        \"max\": 1614963143204.0,\n        \"num_unique_values\": 172,\n        \"samples\": [\n          1611089661487.0,\n          1612197361759.0\n        ],\n        \"semantic_type\": \"\",\n        \"description\": \"\"\n      }\n    }\n  ]\n}"
            }
          },
          "metadata": {},
          "execution_count": 15
        }
      ]
    },
    {
      "cell_type": "code",
      "source": [
        "users_df.isnull().sum()"
      ],
      "metadata": {
        "colab": {
          "base_uri": "https://localhost:8080/"
        },
        "id": "_hWEwML7uzct",
        "outputId": "78d5ecf9-9989-456d-b279-28c7612bd3e1"
      },
      "execution_count": 16,
      "outputs": [
        {
          "output_type": "execute_result",
          "data": {
            "text/plain": [
              "active                0\n",
              "role                  0\n",
              "signUpSource         48\n",
              "state                56\n",
              "_id.$oid              0\n",
              "createdDate.$date     0\n",
              "lastLogin.$date      62\n",
              "dtype: int64"
            ]
          },
          "metadata": {},
          "execution_count": 16
        }
      ]
    },
    {
      "cell_type": "code",
      "source": [
        "duplicate_users = users_df.duplicated()\n",
        "print(duplicate_users.sum())"
      ],
      "metadata": {
        "colab": {
          "base_uri": "https://localhost:8080/"
        },
        "id": "lZNLXlrNxCjF",
        "outputId": "27f4d639-8cd8-47f3-cd7d-bbefc67a796c"
      },
      "execution_count": 17,
      "outputs": [
        {
          "output_type": "stream",
          "name": "stdout",
          "text": [
            "283\n"
          ]
        }
      ]
    },
    {
      "cell_type": "markdown",
      "source": [
        "There are 283 duplicate rows in this data. Keeping them is redundant as entire rows are duplicate, and I cannot make a primary key using duplicate entries.\n",
        "Thus, I have dropped these rows."
      ],
      "metadata": {
        "id": "tKCWf3G2HHk6"
      }
    },
    {
      "cell_type": "code",
      "source": [
        "users_df = users_df.drop_duplicates()"
      ],
      "metadata": {
        "id": "bByAyRnTxWtu"
      },
      "execution_count": 18,
      "outputs": []
    },
    {
      "cell_type": "code",
      "source": [
        "users_df.dtypes"
      ],
      "metadata": {
        "colab": {
          "base_uri": "https://localhost:8080/"
        },
        "id": "rcDkkaOVy0vj",
        "outputId": "ecc431fb-006d-47a8-db12-6b14fb3733fe"
      },
      "execution_count": 19,
      "outputs": [
        {
          "output_type": "execute_result",
          "data": {
            "text/plain": [
              "active                  bool\n",
              "role                  object\n",
              "signUpSource          object\n",
              "state                 object\n",
              "_id.$oid              object\n",
              "createdDate.$date      int64\n",
              "lastLogin.$date      float64\n",
              "dtype: object"
            ]
          },
          "metadata": {},
          "execution_count": 19
        }
      ]
    },
    {
      "cell_type": "markdown",
      "source": [
        "I have typecasted some columns to ensure they match the sql import wizard defaults"
      ],
      "metadata": {
        "id": "EDJDtmF8Hgir"
      }
    },
    {
      "cell_type": "code",
      "source": [
        "users_df['active'] = users_df['active'].astype(int)"
      ],
      "metadata": {
        "id": "aGyiLy6azIAW"
      },
      "execution_count": 20,
      "outputs": []
    },
    {
      "cell_type": "code",
      "source": [
        "users_df['lastLogin.$date'] = users_df['lastLogin.$date'].fillna(users_df['createdDate.$date'])"
      ],
      "metadata": {
        "id": "0tfQqyIjzLOj"
      },
      "execution_count": 21,
      "outputs": []
    },
    {
      "cell_type": "code",
      "source": [
        "users_df['createdDate.$date'] = pd.to_datetime(users_df['createdDate.$date'], unit='ms')\n",
        "users_df['lastLogin.$date'] = pd.to_datetime(users_df['lastLogin.$date'], unit='ms')\n",
        "\n",
        "users_df['createdDate.$date'] = users_df['createdDate.$date'].dt.strftime('%Y-%m-%d %H:%M:%S')\n",
        "users_df['lastLogin.$date'] = users_df['lastLogin.$date'].dt.strftime('%Y-%m-%d %H:%M:%S')"
      ],
      "metadata": {
        "id": "lKeDWNaF0geu"
      },
      "execution_count": 22,
      "outputs": []
    },
    {
      "cell_type": "code",
      "source": [
        "csv_name = 'users.csv'\n",
        "users_df.to_csv(csv_name, index=False)"
      ],
      "metadata": {
        "id": "RGNMl_N3yOt1"
      },
      "execution_count": 23,
      "outputs": []
    },
    {
      "cell_type": "markdown",
      "source": [
        "# Converting brands.json to brands.csv and performing data cleaning"
      ],
      "metadata": {
        "id": "bbECdMge0_lA"
      }
    },
    {
      "cell_type": "code",
      "source": [
        "with open('brands.json', 'r') as file:\n",
        "    json_data = [json.loads(line) for line in file]\n",
        "\n",
        "brands_df = pd.json_normalize(json_data)"
      ],
      "metadata": {
        "id": "u_zeibyl1nJK"
      },
      "execution_count": 24,
      "outputs": []
    },
    {
      "cell_type": "code",
      "source": [
        "brands_df.head()"
      ],
      "metadata": {
        "colab": {
          "base_uri": "https://localhost:8080/",
          "height": 348
        },
        "id": "d_CmEaH51p4U",
        "outputId": "e53667eb-1d8a-494c-a4ab-de75ab2bde50"
      },
      "execution_count": 25,
      "outputs": [
        {
          "output_type": "execute_result",
          "data": {
            "text/plain": [
              "        barcode        category      categoryCode                       name  \\\n",
              "0  511111019862          Baking            BAKING  test brand @1612366101024   \n",
              "1  511111519928       Beverages         BEVERAGES                  Starbucks   \n",
              "2  511111819905          Baking            BAKING  test brand @1612366146176   \n",
              "3  511111519874          Baking            BAKING  test brand @1612366146051   \n",
              "4  511111319917  Candy & Sweets  CANDY_AND_SWEETS  test brand @1612366146827   \n",
              "\n",
              "  topBrand                  _id.$oid              cpg.$id.$oid cpg.$ref  \\\n",
              "0    False  601ac115be37ce2ead437551  601ac114be37ce2ead437550     Cogs   \n",
              "1    False  601c5460be37ce2ead43755f  5332f5fbe4b03c9a25efd0ba     Cogs   \n",
              "2    False  601ac142be37ce2ead43755d  601ac142be37ce2ead437559     Cogs   \n",
              "3    False  601ac142be37ce2ead43755a  601ac142be37ce2ead437559     Cogs   \n",
              "4    False  601ac142be37ce2ead43755e  5332fa12e4b03c9a25efd1e7     Cogs   \n",
              "\n",
              "                       brandCode  \n",
              "0                            NaN  \n",
              "1                      STARBUCKS  \n",
              "2  TEST BRANDCODE @1612366146176  \n",
              "3  TEST BRANDCODE @1612366146051  \n",
              "4  TEST BRANDCODE @1612366146827  "
            ],
            "text/html": [
              "\n",
              "  <div id=\"df-6bfab59f-fc38-4791-8c54-0fd9342d68dd\" class=\"colab-df-container\">\n",
              "    <div>\n",
              "<style scoped>\n",
              "    .dataframe tbody tr th:only-of-type {\n",
              "        vertical-align: middle;\n",
              "    }\n",
              "\n",
              "    .dataframe tbody tr th {\n",
              "        vertical-align: top;\n",
              "    }\n",
              "\n",
              "    .dataframe thead th {\n",
              "        text-align: right;\n",
              "    }\n",
              "</style>\n",
              "<table border=\"1\" class=\"dataframe\">\n",
              "  <thead>\n",
              "    <tr style=\"text-align: right;\">\n",
              "      <th></th>\n",
              "      <th>barcode</th>\n",
              "      <th>category</th>\n",
              "      <th>categoryCode</th>\n",
              "      <th>name</th>\n",
              "      <th>topBrand</th>\n",
              "      <th>_id.$oid</th>\n",
              "      <th>cpg.$id.$oid</th>\n",
              "      <th>cpg.$ref</th>\n",
              "      <th>brandCode</th>\n",
              "    </tr>\n",
              "  </thead>\n",
              "  <tbody>\n",
              "    <tr>\n",
              "      <th>0</th>\n",
              "      <td>511111019862</td>\n",
              "      <td>Baking</td>\n",
              "      <td>BAKING</td>\n",
              "      <td>test brand @1612366101024</td>\n",
              "      <td>False</td>\n",
              "      <td>601ac115be37ce2ead437551</td>\n",
              "      <td>601ac114be37ce2ead437550</td>\n",
              "      <td>Cogs</td>\n",
              "      <td>NaN</td>\n",
              "    </tr>\n",
              "    <tr>\n",
              "      <th>1</th>\n",
              "      <td>511111519928</td>\n",
              "      <td>Beverages</td>\n",
              "      <td>BEVERAGES</td>\n",
              "      <td>Starbucks</td>\n",
              "      <td>False</td>\n",
              "      <td>601c5460be37ce2ead43755f</td>\n",
              "      <td>5332f5fbe4b03c9a25efd0ba</td>\n",
              "      <td>Cogs</td>\n",
              "      <td>STARBUCKS</td>\n",
              "    </tr>\n",
              "    <tr>\n",
              "      <th>2</th>\n",
              "      <td>511111819905</td>\n",
              "      <td>Baking</td>\n",
              "      <td>BAKING</td>\n",
              "      <td>test brand @1612366146176</td>\n",
              "      <td>False</td>\n",
              "      <td>601ac142be37ce2ead43755d</td>\n",
              "      <td>601ac142be37ce2ead437559</td>\n",
              "      <td>Cogs</td>\n",
              "      <td>TEST BRANDCODE @1612366146176</td>\n",
              "    </tr>\n",
              "    <tr>\n",
              "      <th>3</th>\n",
              "      <td>511111519874</td>\n",
              "      <td>Baking</td>\n",
              "      <td>BAKING</td>\n",
              "      <td>test brand @1612366146051</td>\n",
              "      <td>False</td>\n",
              "      <td>601ac142be37ce2ead43755a</td>\n",
              "      <td>601ac142be37ce2ead437559</td>\n",
              "      <td>Cogs</td>\n",
              "      <td>TEST BRANDCODE @1612366146051</td>\n",
              "    </tr>\n",
              "    <tr>\n",
              "      <th>4</th>\n",
              "      <td>511111319917</td>\n",
              "      <td>Candy &amp; Sweets</td>\n",
              "      <td>CANDY_AND_SWEETS</td>\n",
              "      <td>test brand @1612366146827</td>\n",
              "      <td>False</td>\n",
              "      <td>601ac142be37ce2ead43755e</td>\n",
              "      <td>5332fa12e4b03c9a25efd1e7</td>\n",
              "      <td>Cogs</td>\n",
              "      <td>TEST BRANDCODE @1612366146827</td>\n",
              "    </tr>\n",
              "  </tbody>\n",
              "</table>\n",
              "</div>\n",
              "    <div class=\"colab-df-buttons\">\n",
              "\n",
              "  <div class=\"colab-df-container\">\n",
              "    <button class=\"colab-df-convert\" onclick=\"convertToInteractive('df-6bfab59f-fc38-4791-8c54-0fd9342d68dd')\"\n",
              "            title=\"Convert this dataframe to an interactive table.\"\n",
              "            style=\"display:none;\">\n",
              "\n",
              "  <svg xmlns=\"http://www.w3.org/2000/svg\" height=\"24px\" viewBox=\"0 -960 960 960\">\n",
              "    <path d=\"M120-120v-720h720v720H120Zm60-500h600v-160H180v160Zm220 220h160v-160H400v160Zm0 220h160v-160H400v160ZM180-400h160v-160H180v160Zm440 0h160v-160H620v160ZM180-180h160v-160H180v160Zm440 0h160v-160H620v160Z\"/>\n",
              "  </svg>\n",
              "    </button>\n",
              "\n",
              "  <style>\n",
              "    .colab-df-container {\n",
              "      display:flex;\n",
              "      gap: 12px;\n",
              "    }\n",
              "\n",
              "    .colab-df-convert {\n",
              "      background-color: #E8F0FE;\n",
              "      border: none;\n",
              "      border-radius: 50%;\n",
              "      cursor: pointer;\n",
              "      display: none;\n",
              "      fill: #1967D2;\n",
              "      height: 32px;\n",
              "      padding: 0 0 0 0;\n",
              "      width: 32px;\n",
              "    }\n",
              "\n",
              "    .colab-df-convert:hover {\n",
              "      background-color: #E2EBFA;\n",
              "      box-shadow: 0px 1px 2px rgba(60, 64, 67, 0.3), 0px 1px 3px 1px rgba(60, 64, 67, 0.15);\n",
              "      fill: #174EA6;\n",
              "    }\n",
              "\n",
              "    .colab-df-buttons div {\n",
              "      margin-bottom: 4px;\n",
              "    }\n",
              "\n",
              "    [theme=dark] .colab-df-convert {\n",
              "      background-color: #3B4455;\n",
              "      fill: #D2E3FC;\n",
              "    }\n",
              "\n",
              "    [theme=dark] .colab-df-convert:hover {\n",
              "      background-color: #434B5C;\n",
              "      box-shadow: 0px 1px 3px 1px rgba(0, 0, 0, 0.15);\n",
              "      filter: drop-shadow(0px 1px 2px rgba(0, 0, 0, 0.3));\n",
              "      fill: #FFFFFF;\n",
              "    }\n",
              "  </style>\n",
              "\n",
              "    <script>\n",
              "      const buttonEl =\n",
              "        document.querySelector('#df-6bfab59f-fc38-4791-8c54-0fd9342d68dd button.colab-df-convert');\n",
              "      buttonEl.style.display =\n",
              "        google.colab.kernel.accessAllowed ? 'block' : 'none';\n",
              "\n",
              "      async function convertToInteractive(key) {\n",
              "        const element = document.querySelector('#df-6bfab59f-fc38-4791-8c54-0fd9342d68dd');\n",
              "        const dataTable =\n",
              "          await google.colab.kernel.invokeFunction('convertToInteractive',\n",
              "                                                    [key], {});\n",
              "        if (!dataTable) return;\n",
              "\n",
              "        const docLinkHtml = 'Like what you see? Visit the ' +\n",
              "          '<a target=\"_blank\" href=https://colab.research.google.com/notebooks/data_table.ipynb>data table notebook</a>'\n",
              "          + ' to learn more about interactive tables.';\n",
              "        element.innerHTML = '';\n",
              "        dataTable['output_type'] = 'display_data';\n",
              "        await google.colab.output.renderOutput(dataTable, element);\n",
              "        const docLink = document.createElement('div');\n",
              "        docLink.innerHTML = docLinkHtml;\n",
              "        element.appendChild(docLink);\n",
              "      }\n",
              "    </script>\n",
              "  </div>\n",
              "\n",
              "\n",
              "<div id=\"df-86f65e00-c66a-4bbe-a1cc-8d725ed3f9ed\">\n",
              "  <button class=\"colab-df-quickchart\" onclick=\"quickchart('df-86f65e00-c66a-4bbe-a1cc-8d725ed3f9ed')\"\n",
              "            title=\"Suggest charts\"\n",
              "            style=\"display:none;\">\n",
              "\n",
              "<svg xmlns=\"http://www.w3.org/2000/svg\" height=\"24px\"viewBox=\"0 0 24 24\"\n",
              "     width=\"24px\">\n",
              "    <g>\n",
              "        <path d=\"M19 3H5c-1.1 0-2 .9-2 2v14c0 1.1.9 2 2 2h14c1.1 0 2-.9 2-2V5c0-1.1-.9-2-2-2zM9 17H7v-7h2v7zm4 0h-2V7h2v10zm4 0h-2v-4h2v4z\"/>\n",
              "    </g>\n",
              "</svg>\n",
              "  </button>\n",
              "\n",
              "<style>\n",
              "  .colab-df-quickchart {\n",
              "      --bg-color: #E8F0FE;\n",
              "      --fill-color: #1967D2;\n",
              "      --hover-bg-color: #E2EBFA;\n",
              "      --hover-fill-color: #174EA6;\n",
              "      --disabled-fill-color: #AAA;\n",
              "      --disabled-bg-color: #DDD;\n",
              "  }\n",
              "\n",
              "  [theme=dark] .colab-df-quickchart {\n",
              "      --bg-color: #3B4455;\n",
              "      --fill-color: #D2E3FC;\n",
              "      --hover-bg-color: #434B5C;\n",
              "      --hover-fill-color: #FFFFFF;\n",
              "      --disabled-bg-color: #3B4455;\n",
              "      --disabled-fill-color: #666;\n",
              "  }\n",
              "\n",
              "  .colab-df-quickchart {\n",
              "    background-color: var(--bg-color);\n",
              "    border: none;\n",
              "    border-radius: 50%;\n",
              "    cursor: pointer;\n",
              "    display: none;\n",
              "    fill: var(--fill-color);\n",
              "    height: 32px;\n",
              "    padding: 0;\n",
              "    width: 32px;\n",
              "  }\n",
              "\n",
              "  .colab-df-quickchart:hover {\n",
              "    background-color: var(--hover-bg-color);\n",
              "    box-shadow: 0 1px 2px rgba(60, 64, 67, 0.3), 0 1px 3px 1px rgba(60, 64, 67, 0.15);\n",
              "    fill: var(--button-hover-fill-color);\n",
              "  }\n",
              "\n",
              "  .colab-df-quickchart-complete:disabled,\n",
              "  .colab-df-quickchart-complete:disabled:hover {\n",
              "    background-color: var(--disabled-bg-color);\n",
              "    fill: var(--disabled-fill-color);\n",
              "    box-shadow: none;\n",
              "  }\n",
              "\n",
              "  .colab-df-spinner {\n",
              "    border: 2px solid var(--fill-color);\n",
              "    border-color: transparent;\n",
              "    border-bottom-color: var(--fill-color);\n",
              "    animation:\n",
              "      spin 1s steps(1) infinite;\n",
              "  }\n",
              "\n",
              "  @keyframes spin {\n",
              "    0% {\n",
              "      border-color: transparent;\n",
              "      border-bottom-color: var(--fill-color);\n",
              "      border-left-color: var(--fill-color);\n",
              "    }\n",
              "    20% {\n",
              "      border-color: transparent;\n",
              "      border-left-color: var(--fill-color);\n",
              "      border-top-color: var(--fill-color);\n",
              "    }\n",
              "    30% {\n",
              "      border-color: transparent;\n",
              "      border-left-color: var(--fill-color);\n",
              "      border-top-color: var(--fill-color);\n",
              "      border-right-color: var(--fill-color);\n",
              "    }\n",
              "    40% {\n",
              "      border-color: transparent;\n",
              "      border-right-color: var(--fill-color);\n",
              "      border-top-color: var(--fill-color);\n",
              "    }\n",
              "    60% {\n",
              "      border-color: transparent;\n",
              "      border-right-color: var(--fill-color);\n",
              "    }\n",
              "    80% {\n",
              "      border-color: transparent;\n",
              "      border-right-color: var(--fill-color);\n",
              "      border-bottom-color: var(--fill-color);\n",
              "    }\n",
              "    90% {\n",
              "      border-color: transparent;\n",
              "      border-bottom-color: var(--fill-color);\n",
              "    }\n",
              "  }\n",
              "</style>\n",
              "\n",
              "  <script>\n",
              "    async function quickchart(key) {\n",
              "      const quickchartButtonEl =\n",
              "        document.querySelector('#' + key + ' button');\n",
              "      quickchartButtonEl.disabled = true;  // To prevent multiple clicks.\n",
              "      quickchartButtonEl.classList.add('colab-df-spinner');\n",
              "      try {\n",
              "        const charts = await google.colab.kernel.invokeFunction(\n",
              "            'suggestCharts', [key], {});\n",
              "      } catch (error) {\n",
              "        console.error('Error during call to suggestCharts:', error);\n",
              "      }\n",
              "      quickchartButtonEl.classList.remove('colab-df-spinner');\n",
              "      quickchartButtonEl.classList.add('colab-df-quickchart-complete');\n",
              "    }\n",
              "    (() => {\n",
              "      let quickchartButtonEl =\n",
              "        document.querySelector('#df-86f65e00-c66a-4bbe-a1cc-8d725ed3f9ed button');\n",
              "      quickchartButtonEl.style.display =\n",
              "        google.colab.kernel.accessAllowed ? 'block' : 'none';\n",
              "    })();\n",
              "  </script>\n",
              "</div>\n",
              "\n",
              "    </div>\n",
              "  </div>\n"
            ],
            "application/vnd.google.colaboratory.intrinsic+json": {
              "type": "dataframe",
              "variable_name": "brands_df",
              "summary": "{\n  \"name\": \"brands_df\",\n  \"rows\": 1167,\n  \"fields\": [\n    {\n      \"column\": \"barcode\",\n      \"properties\": {\n        \"dtype\": \"string\",\n        \"num_unique_values\": 1160,\n        \"samples\": [\n          \"511111203049\",\n          \"511111716648\",\n          \"511111801245\"\n        ],\n        \"semantic_type\": \"\",\n        \"description\": \"\"\n      }\n    },\n    {\n      \"column\": \"category\",\n      \"properties\": {\n        \"dtype\": \"category\",\n        \"num_unique_values\": 23,\n        \"samples\": [\n          \"Personal Care\",\n          \"Beauty\",\n          \"Baking\"\n        ],\n        \"semantic_type\": \"\",\n        \"description\": \"\"\n      }\n    },\n    {\n      \"column\": \"categoryCode\",\n      \"properties\": {\n        \"dtype\": \"category\",\n        \"num_unique_values\": 14,\n        \"samples\": [\n          \"BREAD_AND_BAKERY\",\n          \"DAIRY_AND_REFRIGERATED\",\n          \"BAKING\"\n        ],\n        \"semantic_type\": \"\",\n        \"description\": \"\"\n      }\n    },\n    {\n      \"column\": \"name\",\n      \"properties\": {\n        \"dtype\": \"string\",\n        \"num_unique_values\": 1156,\n        \"samples\": [\n          \"Bayer\\u00ae ASPRIN TAB/ CAPS/ CHEWS\",\n          \"Colorado Native\",\n          \"Chester's\"\n        ],\n        \"semantic_type\": \"\",\n        \"description\": \"\"\n      }\n    },\n    {\n      \"column\": \"topBrand\",\n      \"properties\": {\n        \"dtype\": \"category\",\n        \"num_unique_values\": 2,\n        \"samples\": [\n          true,\n          false\n        ],\n        \"semantic_type\": \"\",\n        \"description\": \"\"\n      }\n    },\n    {\n      \"column\": \"_id.$oid\",\n      \"properties\": {\n        \"dtype\": \"string\",\n        \"num_unique_values\": 1167,\n        \"samples\": [\n          \"53501d29b9237fd7718f9e16\",\n          \"5332fa08e4b03c9a25efd1d9\"\n        ],\n        \"semantic_type\": \"\",\n        \"description\": \"\"\n      }\n    },\n    {\n      \"column\": \"cpg.$id.$oid\",\n      \"properties\": {\n        \"dtype\": \"category\",\n        \"num_unique_values\": 196,\n        \"samples\": [\n          \"5f4a64e7be37ce17d23b3178\",\n          \"5ff74500be37ce1e961f3276\"\n        ],\n        \"semantic_type\": \"\",\n        \"description\": \"\"\n      }\n    },\n    {\n      \"column\": \"cpg.$ref\",\n      \"properties\": {\n        \"dtype\": \"category\",\n        \"num_unique_values\": 2,\n        \"samples\": [\n          \"Cpgs\",\n          \"Cogs\"\n        ],\n        \"semantic_type\": \"\",\n        \"description\": \"\"\n      }\n    },\n    {\n      \"column\": \"brandCode\",\n      \"properties\": {\n        \"dtype\": \"string\",\n        \"num_unique_values\": 897,\n        \"samples\": [\n          \"AMPTEST\",\n          \"NUT HARVEST\"\n        ],\n        \"semantic_type\": \"\",\n        \"description\": \"\"\n      }\n    }\n  ]\n}"
            }
          },
          "metadata": {},
          "execution_count": 25
        }
      ]
    },
    {
      "cell_type": "code",
      "source": [
        "brands_df.isnull().sum()"
      ],
      "metadata": {
        "colab": {
          "base_uri": "https://localhost:8080/"
        },
        "id": "YR6aFCLu1ySE",
        "outputId": "31af38d7-db6a-4593-9578-f641c85c6168"
      },
      "execution_count": 26,
      "outputs": [
        {
          "output_type": "execute_result",
          "data": {
            "text/plain": [
              "barcode           0\n",
              "category        155\n",
              "categoryCode    650\n",
              "name              0\n",
              "topBrand        612\n",
              "_id.$oid          0\n",
              "cpg.$id.$oid      0\n",
              "cpg.$ref          0\n",
              "brandCode       234\n",
              "dtype: int64"
            ]
          },
          "metadata": {},
          "execution_count": 26
        }
      ]
    },
    {
      "cell_type": "code",
      "source": [
        "brands_df['barcode'] = brands_df['barcode'].astype(int)"
      ],
      "metadata": {
        "id": "UsiE6tLHO6E7"
      },
      "execution_count": 27,
      "outputs": []
    },
    {
      "cell_type": "code",
      "source": [
        "brands_df.dtypes"
      ],
      "metadata": {
        "colab": {
          "base_uri": "https://localhost:8080/"
        },
        "id": "vsjLMyW712dO",
        "outputId": "af6391f4-2e5e-4735-a744-e11e869eaa57"
      },
      "execution_count": 28,
      "outputs": [
        {
          "output_type": "execute_result",
          "data": {
            "text/plain": [
              "barcode          int64\n",
              "category        object\n",
              "categoryCode    object\n",
              "name            object\n",
              "topBrand        object\n",
              "_id.$oid        object\n",
              "cpg.$id.$oid    object\n",
              "cpg.$ref        object\n",
              "brandCode       object\n",
              "dtype: object"
            ]
          },
          "metadata": {},
          "execution_count": 28
        }
      ]
    },
    {
      "cell_type": "code",
      "source": [
        "brands_df.info()"
      ],
      "metadata": {
        "colab": {
          "base_uri": "https://localhost:8080/"
        },
        "id": "esVaGaaKObI1",
        "outputId": "5c864c24-cdfd-4e42-f869-d126be3bd84d"
      },
      "execution_count": 29,
      "outputs": [
        {
          "output_type": "stream",
          "name": "stdout",
          "text": [
            "<class 'pandas.core.frame.DataFrame'>\n",
            "RangeIndex: 1167 entries, 0 to 1166\n",
            "Data columns (total 9 columns):\n",
            " #   Column        Non-Null Count  Dtype \n",
            "---  ------        --------------  ----- \n",
            " 0   barcode       1167 non-null   int64 \n",
            " 1   category      1012 non-null   object\n",
            " 2   categoryCode  517 non-null    object\n",
            " 3   name          1167 non-null   object\n",
            " 4   topBrand      555 non-null    object\n",
            " 5   _id.$oid      1167 non-null   object\n",
            " 6   cpg.$id.$oid  1167 non-null   object\n",
            " 7   cpg.$ref      1167 non-null   object\n",
            " 8   brandCode     933 non-null    object\n",
            "dtypes: int64(1), object(8)\n",
            "memory usage: 82.2+ KB\n"
          ]
        }
      ]
    },
    {
      "cell_type": "code",
      "source": [
        "brands_df.duplicated().sum()"
      ],
      "metadata": {
        "colab": {
          "base_uri": "https://localhost:8080/"
        },
        "id": "wLe3VZN92lfo",
        "outputId": "19b9c4d0-2901-49e4-cc49-c777c8fa5796"
      },
      "execution_count": 30,
      "outputs": [
        {
          "output_type": "execute_result",
          "data": {
            "text/plain": [
              "0"
            ]
          },
          "metadata": {},
          "execution_count": 30
        }
      ]
    },
    {
      "cell_type": "markdown",
      "source": [],
      "metadata": {
        "id": "JIHIzQQlIf27"
      }
    },
    {
      "cell_type": "markdown",
      "source": [
        "Here, I noticed that a lot of brands are not recognized as top brands, but they are also not given the False boolean value. Thus, I set it and typecasted it to binary.\n",
        "\n",
        "Also, there are lot of unnecessary blank spaces in the columns which causes issue to the importing process in SQL. I have thus stripped the blanks.\n",
        "\n",
        "I noticed a lot of characters which are beyond the ordinals recognized by SQL. I thus removed them. A way to incorporate them is to use them on Windows, as the Windows codec on MS SQL server allows these characters to parse."
      ],
      "metadata": {
        "id": "x9r7ianoImqM"
      }
    },
    {
      "cell_type": "code",
      "source": [
        "brands_df['topBrand'] = brands_df['topBrand'].fillna(False)\n",
        "brands_df['topBrand'] = brands_df['topBrand'].astype(int)"
      ],
      "metadata": {
        "id": "Pp0Gl4qf3Dn6"
      },
      "execution_count": 62,
      "outputs": []
    },
    {
      "cell_type": "code",
      "source": [
        "brands_df_obj = brands_df.select_dtypes(object)\n",
        "brands_df[brands_df_obj.columns] = brands_df_obj.apply(lambda x: x.str.strip())"
      ],
      "metadata": {
        "id": "G1eepEOPJW2S"
      },
      "execution_count": 33,
      "outputs": []
    },
    {
      "cell_type": "code",
      "source": [
        "brands_df.replace({r'[^\\x00-\\x7F]+':''}, regex= True, inplace = True)"
      ],
      "metadata": {
        "id": "J4U_KJMRXjF1"
      },
      "execution_count": 34,
      "outputs": []
    },
    {
      "cell_type": "code",
      "source": [
        "csv_name2 = 'brands.csv'\n",
        "brands_df.to_csv(csv_name2, encoding = 'utf-8', index=False)"
      ],
      "metadata": {
        "id": "Kx2hJHqE3Ig3"
      },
      "execution_count": 35,
      "outputs": []
    },
    {
      "cell_type": "markdown",
      "source": [
        "# Converting receipts.json to receipts.csv and performing data cleaning"
      ],
      "metadata": {
        "id": "Bh9pAlKB3zwM"
      }
    },
    {
      "cell_type": "markdown",
      "source": [
        "In this part, I found that there is an entire column which is a json file on its own. There are two ways to go about this. One is to keep that column as it is in the dataframe and try to access it in SQL subqueries.\n",
        "\n",
        "This can be done, but then the complexity of the SQL queries increases exponentially since the json is very big with a lot of columns.\n",
        "\n",
        "I thus felt it would be better to explode the inner json in python and would lead to a better schema in SQL as well. This did prove to be true in the end, as the relational schema was quite straightforward after doing this."
      ],
      "metadata": {
        "id": "cnkrWxbCKVJK"
      }
    },
    {
      "cell_type": "code",
      "source": [
        "def read_json(filename):\n",
        "    with open(filename, \"r\") as f:\n",
        "        try:\n",
        "            content = f.read()\n",
        "            data_list = [json.loads(obj) for obj in content.split('\\n') if obj.strip()]\n",
        "            return data_list\n",
        "        except json.JSONDecodeError as e:\n",
        "            raise Exception(f\"Reading {filename} file encountered an error: {e}\")\n",
        "\n",
        "try:\n",
        "    data_list = read_json(\"receipts.json\")\n",
        "except Exception as e:\n",
        "    print(e)"
      ],
      "metadata": {
        "id": "aNppyg3F34-G"
      },
      "execution_count": 63,
      "outputs": []
    },
    {
      "cell_type": "code",
      "source": [
        "def normalize_json(data):\n",
        "    new_data = {}\n",
        "    for key, value in data.items():\n",
        "        if not isinstance(value, dict):\n",
        "            new_data[key] = value\n",
        "        else:\n",
        "            for k, v in value.items():\n",
        "                new_data[key + \"_\" + k] = v\n",
        "    return new_data\n",
        "\n",
        "normalized_data = [normalize_json(data) for data in data_list]\n",
        "\n",
        "receipts_df = pd.DataFrame(normalized_data)"
      ],
      "metadata": {
        "id": "RWKh1fd14KiL"
      },
      "execution_count": 37,
      "outputs": []
    },
    {
      "cell_type": "code",
      "source": [
        "receipts_df.head()"
      ],
      "metadata": {
        "colab": {
          "base_uri": "https://localhost:8080/",
          "height": 313
        },
        "id": "5AATXr8a4ZLi",
        "outputId": "1b6cd5e3-ee65-4c71-e31f-5e5e0bf5de12"
      },
      "execution_count": 38,
      "outputs": [
        {
          "output_type": "execute_result",
          "data": {
            "text/plain": [
              "                   _id_$oid  bonusPointsEarned  \\\n",
              "0  5ff1e1eb0a720f0523000575              500.0   \n",
              "1  5ff1e1bb0a720f052300056b              150.0   \n",
              "2  5ff1e1f10a720f052300057a                5.0   \n",
              "3  5ff1e1ee0a7214ada100056f                5.0   \n",
              "4  5ff1e1d20a7214ada1000561                5.0   \n",
              "\n",
              "                             bonusPointsEarnedReason  createDate_$date  \\\n",
              "0  Receipt number 2 completed, bonus point schedu...     1609687531000   \n",
              "1  Receipt number 5 completed, bonus point schedu...     1609687483000   \n",
              "2                         All-receipts receipt bonus     1609687537000   \n",
              "3                         All-receipts receipt bonus     1609687534000   \n",
              "4                         All-receipts receipt bonus     1609687506000   \n",
              "\n",
              "   dateScanned_$date  finishedDate_$date  modifyDate_$date  \\\n",
              "0      1609687531000        1.609688e+12     1609687536000   \n",
              "1      1609687483000        1.609687e+12     1609687488000   \n",
              "2      1609687537000                 NaN     1609687542000   \n",
              "3      1609687534000        1.609688e+12     1609687539000   \n",
              "4      1609687506000        1.609688e+12     1609687511000   \n",
              "\n",
              "   pointsAwardedDate_$date pointsEarned  purchaseDate_$date  \\\n",
              "0             1.609688e+12        500.0        1.609632e+12   \n",
              "1             1.609687e+12        150.0        1.609601e+12   \n",
              "2                      NaN            5        1.609632e+12   \n",
              "3             1.609688e+12          5.0        1.609632e+12   \n",
              "4             1.609688e+12          5.0        1.609601e+12   \n",
              "\n",
              "   purchasedItemCount                             rewardsReceiptItemList  \\\n",
              "0                 5.0  [{'barcode': '4011', 'description': 'ITEM NOT ...   \n",
              "1                 2.0  [{'barcode': '4011', 'description': 'ITEM NOT ...   \n",
              "2                 1.0  [{'needsFetchReview': False, 'partnerItemId': ...   \n",
              "3                 4.0  [{'barcode': '4011', 'description': 'ITEM NOT ...   \n",
              "4                 2.0  [{'barcode': '4011', 'description': 'ITEM NOT ...   \n",
              "\n",
              "  rewardsReceiptStatus totalSpent                    userId  \n",
              "0             FINISHED      26.00  5ff1e1eacfcf6c399c274ae6  \n",
              "1             FINISHED      11.00  5ff1e194b6a9d73a3a9f1052  \n",
              "2             REJECTED      10.00  5ff1e1f1cfcf6c399c274b0b  \n",
              "3             FINISHED      28.00  5ff1e1eacfcf6c399c274ae6  \n",
              "4             FINISHED       1.00  5ff1e194b6a9d73a3a9f1052  "
            ],
            "text/html": [
              "\n",
              "  <div id=\"df-a466602e-9f4d-427e-a0ad-4b1235698c8c\" class=\"colab-df-container\">\n",
              "    <div>\n",
              "<style scoped>\n",
              "    .dataframe tbody tr th:only-of-type {\n",
              "        vertical-align: middle;\n",
              "    }\n",
              "\n",
              "    .dataframe tbody tr th {\n",
              "        vertical-align: top;\n",
              "    }\n",
              "\n",
              "    .dataframe thead th {\n",
              "        text-align: right;\n",
              "    }\n",
              "</style>\n",
              "<table border=\"1\" class=\"dataframe\">\n",
              "  <thead>\n",
              "    <tr style=\"text-align: right;\">\n",
              "      <th></th>\n",
              "      <th>_id_$oid</th>\n",
              "      <th>bonusPointsEarned</th>\n",
              "      <th>bonusPointsEarnedReason</th>\n",
              "      <th>createDate_$date</th>\n",
              "      <th>dateScanned_$date</th>\n",
              "      <th>finishedDate_$date</th>\n",
              "      <th>modifyDate_$date</th>\n",
              "      <th>pointsAwardedDate_$date</th>\n",
              "      <th>pointsEarned</th>\n",
              "      <th>purchaseDate_$date</th>\n",
              "      <th>purchasedItemCount</th>\n",
              "      <th>rewardsReceiptItemList</th>\n",
              "      <th>rewardsReceiptStatus</th>\n",
              "      <th>totalSpent</th>\n",
              "      <th>userId</th>\n",
              "    </tr>\n",
              "  </thead>\n",
              "  <tbody>\n",
              "    <tr>\n",
              "      <th>0</th>\n",
              "      <td>5ff1e1eb0a720f0523000575</td>\n",
              "      <td>500.0</td>\n",
              "      <td>Receipt number 2 completed, bonus point schedu...</td>\n",
              "      <td>1609687531000</td>\n",
              "      <td>1609687531000</td>\n",
              "      <td>1.609688e+12</td>\n",
              "      <td>1609687536000</td>\n",
              "      <td>1.609688e+12</td>\n",
              "      <td>500.0</td>\n",
              "      <td>1.609632e+12</td>\n",
              "      <td>5.0</td>\n",
              "      <td>[{'barcode': '4011', 'description': 'ITEM NOT ...</td>\n",
              "      <td>FINISHED</td>\n",
              "      <td>26.00</td>\n",
              "      <td>5ff1e1eacfcf6c399c274ae6</td>\n",
              "    </tr>\n",
              "    <tr>\n",
              "      <th>1</th>\n",
              "      <td>5ff1e1bb0a720f052300056b</td>\n",
              "      <td>150.0</td>\n",
              "      <td>Receipt number 5 completed, bonus point schedu...</td>\n",
              "      <td>1609687483000</td>\n",
              "      <td>1609687483000</td>\n",
              "      <td>1.609687e+12</td>\n",
              "      <td>1609687488000</td>\n",
              "      <td>1.609687e+12</td>\n",
              "      <td>150.0</td>\n",
              "      <td>1.609601e+12</td>\n",
              "      <td>2.0</td>\n",
              "      <td>[{'barcode': '4011', 'description': 'ITEM NOT ...</td>\n",
              "      <td>FINISHED</td>\n",
              "      <td>11.00</td>\n",
              "      <td>5ff1e194b6a9d73a3a9f1052</td>\n",
              "    </tr>\n",
              "    <tr>\n",
              "      <th>2</th>\n",
              "      <td>5ff1e1f10a720f052300057a</td>\n",
              "      <td>5.0</td>\n",
              "      <td>All-receipts receipt bonus</td>\n",
              "      <td>1609687537000</td>\n",
              "      <td>1609687537000</td>\n",
              "      <td>NaN</td>\n",
              "      <td>1609687542000</td>\n",
              "      <td>NaN</td>\n",
              "      <td>5</td>\n",
              "      <td>1.609632e+12</td>\n",
              "      <td>1.0</td>\n",
              "      <td>[{'needsFetchReview': False, 'partnerItemId': ...</td>\n",
              "      <td>REJECTED</td>\n",
              "      <td>10.00</td>\n",
              "      <td>5ff1e1f1cfcf6c399c274b0b</td>\n",
              "    </tr>\n",
              "    <tr>\n",
              "      <th>3</th>\n",
              "      <td>5ff1e1ee0a7214ada100056f</td>\n",
              "      <td>5.0</td>\n",
              "      <td>All-receipts receipt bonus</td>\n",
              "      <td>1609687534000</td>\n",
              "      <td>1609687534000</td>\n",
              "      <td>1.609688e+12</td>\n",
              "      <td>1609687539000</td>\n",
              "      <td>1.609688e+12</td>\n",
              "      <td>5.0</td>\n",
              "      <td>1.609632e+12</td>\n",
              "      <td>4.0</td>\n",
              "      <td>[{'barcode': '4011', 'description': 'ITEM NOT ...</td>\n",
              "      <td>FINISHED</td>\n",
              "      <td>28.00</td>\n",
              "      <td>5ff1e1eacfcf6c399c274ae6</td>\n",
              "    </tr>\n",
              "    <tr>\n",
              "      <th>4</th>\n",
              "      <td>5ff1e1d20a7214ada1000561</td>\n",
              "      <td>5.0</td>\n",
              "      <td>All-receipts receipt bonus</td>\n",
              "      <td>1609687506000</td>\n",
              "      <td>1609687506000</td>\n",
              "      <td>1.609688e+12</td>\n",
              "      <td>1609687511000</td>\n",
              "      <td>1.609688e+12</td>\n",
              "      <td>5.0</td>\n",
              "      <td>1.609601e+12</td>\n",
              "      <td>2.0</td>\n",
              "      <td>[{'barcode': '4011', 'description': 'ITEM NOT ...</td>\n",
              "      <td>FINISHED</td>\n",
              "      <td>1.00</td>\n",
              "      <td>5ff1e194b6a9d73a3a9f1052</td>\n",
              "    </tr>\n",
              "  </tbody>\n",
              "</table>\n",
              "</div>\n",
              "    <div class=\"colab-df-buttons\">\n",
              "\n",
              "  <div class=\"colab-df-container\">\n",
              "    <button class=\"colab-df-convert\" onclick=\"convertToInteractive('df-a466602e-9f4d-427e-a0ad-4b1235698c8c')\"\n",
              "            title=\"Convert this dataframe to an interactive table.\"\n",
              "            style=\"display:none;\">\n",
              "\n",
              "  <svg xmlns=\"http://www.w3.org/2000/svg\" height=\"24px\" viewBox=\"0 -960 960 960\">\n",
              "    <path d=\"M120-120v-720h720v720H120Zm60-500h600v-160H180v160Zm220 220h160v-160H400v160Zm0 220h160v-160H400v160ZM180-400h160v-160H180v160Zm440 0h160v-160H620v160ZM180-180h160v-160H180v160Zm440 0h160v-160H620v160Z\"/>\n",
              "  </svg>\n",
              "    </button>\n",
              "\n",
              "  <style>\n",
              "    .colab-df-container {\n",
              "      display:flex;\n",
              "      gap: 12px;\n",
              "    }\n",
              "\n",
              "    .colab-df-convert {\n",
              "      background-color: #E8F0FE;\n",
              "      border: none;\n",
              "      border-radius: 50%;\n",
              "      cursor: pointer;\n",
              "      display: none;\n",
              "      fill: #1967D2;\n",
              "      height: 32px;\n",
              "      padding: 0 0 0 0;\n",
              "      width: 32px;\n",
              "    }\n",
              "\n",
              "    .colab-df-convert:hover {\n",
              "      background-color: #E2EBFA;\n",
              "      box-shadow: 0px 1px 2px rgba(60, 64, 67, 0.3), 0px 1px 3px 1px rgba(60, 64, 67, 0.15);\n",
              "      fill: #174EA6;\n",
              "    }\n",
              "\n",
              "    .colab-df-buttons div {\n",
              "      margin-bottom: 4px;\n",
              "    }\n",
              "\n",
              "    [theme=dark] .colab-df-convert {\n",
              "      background-color: #3B4455;\n",
              "      fill: #D2E3FC;\n",
              "    }\n",
              "\n",
              "    [theme=dark] .colab-df-convert:hover {\n",
              "      background-color: #434B5C;\n",
              "      box-shadow: 0px 1px 3px 1px rgba(0, 0, 0, 0.15);\n",
              "      filter: drop-shadow(0px 1px 2px rgba(0, 0, 0, 0.3));\n",
              "      fill: #FFFFFF;\n",
              "    }\n",
              "  </style>\n",
              "\n",
              "    <script>\n",
              "      const buttonEl =\n",
              "        document.querySelector('#df-a466602e-9f4d-427e-a0ad-4b1235698c8c button.colab-df-convert');\n",
              "      buttonEl.style.display =\n",
              "        google.colab.kernel.accessAllowed ? 'block' : 'none';\n",
              "\n",
              "      async function convertToInteractive(key) {\n",
              "        const element = document.querySelector('#df-a466602e-9f4d-427e-a0ad-4b1235698c8c');\n",
              "        const dataTable =\n",
              "          await google.colab.kernel.invokeFunction('convertToInteractive',\n",
              "                                                    [key], {});\n",
              "        if (!dataTable) return;\n",
              "\n",
              "        const docLinkHtml = 'Like what you see? Visit the ' +\n",
              "          '<a target=\"_blank\" href=https://colab.research.google.com/notebooks/data_table.ipynb>data table notebook</a>'\n",
              "          + ' to learn more about interactive tables.';\n",
              "        element.innerHTML = '';\n",
              "        dataTable['output_type'] = 'display_data';\n",
              "        await google.colab.output.renderOutput(dataTable, element);\n",
              "        const docLink = document.createElement('div');\n",
              "        docLink.innerHTML = docLinkHtml;\n",
              "        element.appendChild(docLink);\n",
              "      }\n",
              "    </script>\n",
              "  </div>\n",
              "\n",
              "\n",
              "<div id=\"df-93730508-e25d-42e0-a29a-828a76d6bf9e\">\n",
              "  <button class=\"colab-df-quickchart\" onclick=\"quickchart('df-93730508-e25d-42e0-a29a-828a76d6bf9e')\"\n",
              "            title=\"Suggest charts\"\n",
              "            style=\"display:none;\">\n",
              "\n",
              "<svg xmlns=\"http://www.w3.org/2000/svg\" height=\"24px\"viewBox=\"0 0 24 24\"\n",
              "     width=\"24px\">\n",
              "    <g>\n",
              "        <path d=\"M19 3H5c-1.1 0-2 .9-2 2v14c0 1.1.9 2 2 2h14c1.1 0 2-.9 2-2V5c0-1.1-.9-2-2-2zM9 17H7v-7h2v7zm4 0h-2V7h2v10zm4 0h-2v-4h2v4z\"/>\n",
              "    </g>\n",
              "</svg>\n",
              "  </button>\n",
              "\n",
              "<style>\n",
              "  .colab-df-quickchart {\n",
              "      --bg-color: #E8F0FE;\n",
              "      --fill-color: #1967D2;\n",
              "      --hover-bg-color: #E2EBFA;\n",
              "      --hover-fill-color: #174EA6;\n",
              "      --disabled-fill-color: #AAA;\n",
              "      --disabled-bg-color: #DDD;\n",
              "  }\n",
              "\n",
              "  [theme=dark] .colab-df-quickchart {\n",
              "      --bg-color: #3B4455;\n",
              "      --fill-color: #D2E3FC;\n",
              "      --hover-bg-color: #434B5C;\n",
              "      --hover-fill-color: #FFFFFF;\n",
              "      --disabled-bg-color: #3B4455;\n",
              "      --disabled-fill-color: #666;\n",
              "  }\n",
              "\n",
              "  .colab-df-quickchart {\n",
              "    background-color: var(--bg-color);\n",
              "    border: none;\n",
              "    border-radius: 50%;\n",
              "    cursor: pointer;\n",
              "    display: none;\n",
              "    fill: var(--fill-color);\n",
              "    height: 32px;\n",
              "    padding: 0;\n",
              "    width: 32px;\n",
              "  }\n",
              "\n",
              "  .colab-df-quickchart:hover {\n",
              "    background-color: var(--hover-bg-color);\n",
              "    box-shadow: 0 1px 2px rgba(60, 64, 67, 0.3), 0 1px 3px 1px rgba(60, 64, 67, 0.15);\n",
              "    fill: var(--button-hover-fill-color);\n",
              "  }\n",
              "\n",
              "  .colab-df-quickchart-complete:disabled,\n",
              "  .colab-df-quickchart-complete:disabled:hover {\n",
              "    background-color: var(--disabled-bg-color);\n",
              "    fill: var(--disabled-fill-color);\n",
              "    box-shadow: none;\n",
              "  }\n",
              "\n",
              "  .colab-df-spinner {\n",
              "    border: 2px solid var(--fill-color);\n",
              "    border-color: transparent;\n",
              "    border-bottom-color: var(--fill-color);\n",
              "    animation:\n",
              "      spin 1s steps(1) infinite;\n",
              "  }\n",
              "\n",
              "  @keyframes spin {\n",
              "    0% {\n",
              "      border-color: transparent;\n",
              "      border-bottom-color: var(--fill-color);\n",
              "      border-left-color: var(--fill-color);\n",
              "    }\n",
              "    20% {\n",
              "      border-color: transparent;\n",
              "      border-left-color: var(--fill-color);\n",
              "      border-top-color: var(--fill-color);\n",
              "    }\n",
              "    30% {\n",
              "      border-color: transparent;\n",
              "      border-left-color: var(--fill-color);\n",
              "      border-top-color: var(--fill-color);\n",
              "      border-right-color: var(--fill-color);\n",
              "    }\n",
              "    40% {\n",
              "      border-color: transparent;\n",
              "      border-right-color: var(--fill-color);\n",
              "      border-top-color: var(--fill-color);\n",
              "    }\n",
              "    60% {\n",
              "      border-color: transparent;\n",
              "      border-right-color: var(--fill-color);\n",
              "    }\n",
              "    80% {\n",
              "      border-color: transparent;\n",
              "      border-right-color: var(--fill-color);\n",
              "      border-bottom-color: var(--fill-color);\n",
              "    }\n",
              "    90% {\n",
              "      border-color: transparent;\n",
              "      border-bottom-color: var(--fill-color);\n",
              "    }\n",
              "  }\n",
              "</style>\n",
              "\n",
              "  <script>\n",
              "    async function quickchart(key) {\n",
              "      const quickchartButtonEl =\n",
              "        document.querySelector('#' + key + ' button');\n",
              "      quickchartButtonEl.disabled = true;  // To prevent multiple clicks.\n",
              "      quickchartButtonEl.classList.add('colab-df-spinner');\n",
              "      try {\n",
              "        const charts = await google.colab.kernel.invokeFunction(\n",
              "            'suggestCharts', [key], {});\n",
              "      } catch (error) {\n",
              "        console.error('Error during call to suggestCharts:', error);\n",
              "      }\n",
              "      quickchartButtonEl.classList.remove('colab-df-spinner');\n",
              "      quickchartButtonEl.classList.add('colab-df-quickchart-complete');\n",
              "    }\n",
              "    (() => {\n",
              "      let quickchartButtonEl =\n",
              "        document.querySelector('#df-93730508-e25d-42e0-a29a-828a76d6bf9e button');\n",
              "      quickchartButtonEl.style.display =\n",
              "        google.colab.kernel.accessAllowed ? 'block' : 'none';\n",
              "    })();\n",
              "  </script>\n",
              "</div>\n",
              "\n",
              "    </div>\n",
              "  </div>\n"
            ],
            "application/vnd.google.colaboratory.intrinsic+json": {
              "type": "dataframe",
              "variable_name": "receipts_df",
              "summary": "{\n  \"name\": \"receipts_df\",\n  \"rows\": 1119,\n  \"fields\": [\n    {\n      \"column\": \"_id_$oid\",\n      \"properties\": {\n        \"dtype\": \"string\",\n        \"num_unique_values\": 1119,\n        \"samples\": [\n          \"5fff4ca00a7214ad4c000029\",\n          \"5ff5d1dd0a720f05230005d7\",\n          \"602573920a720f05a800025d\"\n        ],\n        \"semantic_type\": \"\",\n        \"description\": \"\"\n      }\n    },\n    {\n      \"column\": \"bonusPointsEarned\",\n      \"properties\": {\n        \"dtype\": \"number\",\n        \"std\": 299.0917307140745,\n        \"min\": 5.0,\n        \"max\": 750.0,\n        \"num_unique_values\": 12,\n        \"samples\": [\n          27.0,\n          45.0,\n          500.0\n        ],\n        \"semantic_type\": \"\",\n        \"description\": \"\"\n      }\n    },\n    {\n      \"column\": \"bonusPointsEarnedReason\",\n      \"properties\": {\n        \"dtype\": \"category\",\n        \"num_unique_values\": 9,\n        \"samples\": [\n          \"COMPLETE_PARTNER_RECEIPT\",\n          \"Receipt number 5 completed, bonus point schedule DEFAULT (5cefdcacf3693e0b50e83a36)\",\n          \"Receipt number 6 completed, bonus point schedule DEFAULT (5cefdcacf3693e0b50e83a36)\"\n        ],\n        \"semantic_type\": \"\",\n        \"description\": \"\"\n      }\n    },\n    {\n      \"column\": \"createDate_$date\",\n      \"properties\": {\n        \"dtype\": \"number\",\n        \"std\": 1484090956,\n        \"min\": 1604089079000,\n        \"max\": 1614640654772,\n        \"num_unique_values\": 1107,\n        \"samples\": [\n          1612131161209,\n          1613132261231,\n          1609879107000\n        ],\n        \"semantic_type\": \"\",\n        \"description\": \"\"\n      }\n    },\n    {\n      \"column\": \"dateScanned_$date\",\n      \"properties\": {\n        \"dtype\": \"number\",\n        \"std\": 1484090956,\n        \"min\": 1604089079000,\n        \"max\": 1614640654772,\n        \"num_unique_values\": 1107,\n        \"samples\": [\n          1612131161209,\n          1613132261231,\n          1609879107000\n        ],\n        \"semantic_type\": \"\",\n        \"description\": \"\"\n      }\n    },\n    {\n      \"column\": \"finishedDate_$date\",\n      \"properties\": {\n        \"dtype\": \"number\",\n        \"std\": 953464136.4199815,\n        \"min\": 1609687450000.0,\n        \"max\": 1614378985000.0,\n        \"num_unique_values\": 553,\n        \"samples\": [\n          1613139118000.0,\n          1609945613000.0,\n          1612545064194.0\n        ],\n        \"semantic_type\": \"\",\n        \"description\": \"\"\n      }\n    },\n    {\n      \"column\": \"modifyDate_$date\",\n      \"properties\": {\n        \"dtype\": \"number\",\n        \"std\": 1361576495,\n        \"min\": 1609687450000,\n        \"max\": 1614640654772,\n        \"num_unique_values\": 1104,\n        \"samples\": [\n          1610841862000,\n          1614462454253,\n          1611198000000\n        ],\n        \"semantic_type\": \"\",\n        \"description\": \"\"\n      }\n    },\n    {\n      \"column\": \"pointsAwardedDate_$date\",\n      \"properties\": {\n        \"dtype\": \"number\",\n        \"std\": 1056717887.8052088,\n        \"min\": 1604089080000.0,\n        \"max\": 1614378985000.0,\n        \"num_unique_values\": 523,\n        \"samples\": [\n          1613139065000.0,\n          1611762667000.0,\n          1609687461000.0\n        ],\n        \"semantic_type\": \"\",\n        \"description\": \"\"\n      }\n    },\n    {\n      \"column\": \"pointsEarned\",\n      \"properties\": {\n        \"dtype\": \"category\",\n        \"num_unique_values\": 120,\n        \"samples\": [\n          \"1005.0\",\n          \"8950.0\",\n          \"750.0\"\n        ],\n        \"semantic_type\": \"\",\n        \"description\": \"\"\n      }\n    },\n    {\n      \"column\": \"purchaseDate_$date\",\n      \"properties\": {\n        \"dtype\": \"number\",\n        \"std\": 12307550332.123652,\n        \"min\": 1509321600000.0,\n        \"max\": 1615225033000.0,\n        \"num_unique_values\": 358,\n        \"samples\": [\n          1610949600000.0,\n          1608508800000.0,\n          1611554920000.0\n        ],\n        \"semantic_type\": \"\",\n        \"description\": \"\"\n      }\n    },\n    {\n      \"column\": \"purchasedItemCount\",\n      \"properties\": {\n        \"dtype\": \"number\",\n        \"std\": 61.134240406731564,\n        \"min\": 0.0,\n        \"max\": 689.0,\n        \"num_unique_values\": 50,\n        \"samples\": [\n          86.0,\n          133.0,\n          32.0\n        ],\n        \"semantic_type\": \"\",\n        \"description\": \"\"\n      }\n    },\n    {\n      \"column\": \"rewardsReceiptItemList\",\n      \"properties\": {\n        \"dtype\": \"object\",\n        \"semantic_type\": \"\",\n        \"description\": \"\"\n      }\n    },\n    {\n      \"column\": \"rewardsReceiptStatus\",\n      \"properties\": {\n        \"dtype\": \"category\",\n        \"num_unique_values\": 5,\n        \"samples\": [\n          \"REJECTED\",\n          \"PENDING\",\n          \"FLAGGED\"\n        ],\n        \"semantic_type\": \"\",\n        \"description\": \"\"\n      }\n    },\n    {\n      \"column\": \"totalSpent\",\n      \"properties\": {\n        \"dtype\": \"category\",\n        \"num_unique_values\": 94,\n        \"samples\": [\n          \"271.63\",\n          \"9.99\",\n          \"30.57\"\n        ],\n        \"semantic_type\": \"\",\n        \"description\": \"\"\n      }\n    },\n    {\n      \"column\": \"userId\",\n      \"properties\": {\n        \"dtype\": \"category\",\n        \"num_unique_values\": 258,\n        \"samples\": [\n          \"5ffcb47d04929111f6e9256c\",\n          \"5ff75004b3348b11c9336bd6\",\n          \"5ff1e196cfcf6c399c274a38\"\n        ],\n        \"semantic_type\": \"\",\n        \"description\": \"\"\n      }\n    }\n  ]\n}"
            }
          },
          "metadata": {},
          "execution_count": 38
        }
      ]
    },
    {
      "cell_type": "markdown",
      "source": [
        "There were a lot of null values in this json. They all needed to be filled in order to make the SQL processing simpler.\n",
        "\n",
        "The null dates were set to the minimum available dates."
      ],
      "metadata": {
        "id": "uEbyYhvnLvvs"
      }
    },
    {
      "cell_type": "code",
      "source": [
        "receipts_df['bonusPointsEarned'] = receipts_df['bonusPointsEarned'].fillna(0)\n",
        "receipts_df['purchasedItemCount'] = receipts_df['purchasedItemCount'].fillna(0)\n",
        "receipts_df['totalSpent'] = receipts_df['totalSpent'].fillna(0)\n",
        "receipts_df['pointsEarned'] = receipts_df['pointsEarned'].fillna(0)\n",
        "receipts_df['pointsAwardedDate_$date'] = receipts_df['pointsAwardedDate_$date'].fillna(receipts_df['createDate_$date'])\n",
        "receipts_df['finishedDate_$date'] = receipts_df['finishedDate_$date'].fillna(receipts_df['createDate_$date'])\n",
        "receipts_df['purchaseDate_$date'] = receipts_df['purchaseDate_$date'].fillna(receipts_df['createDate_$date'])"
      ],
      "metadata": {
        "id": "OPgwMwaZefRW"
      },
      "execution_count": 39,
      "outputs": []
    },
    {
      "cell_type": "code",
      "source": [
        "receipts_df.isnull().sum()"
      ],
      "metadata": {
        "colab": {
          "base_uri": "https://localhost:8080/"
        },
        "id": "hg4o_c-_4xwP",
        "outputId": "9a182ce6-dbd6-4274-e0f5-3741b3485d2b"
      },
      "execution_count": 40,
      "outputs": [
        {
          "output_type": "execute_result",
          "data": {
            "text/plain": [
              "_id_$oid                     0\n",
              "bonusPointsEarned            0\n",
              "bonusPointsEarnedReason    575\n",
              "createDate_$date             0\n",
              "dateScanned_$date            0\n",
              "finishedDate_$date           0\n",
              "modifyDate_$date             0\n",
              "pointsAwardedDate_$date      0\n",
              "pointsEarned                 0\n",
              "purchaseDate_$date           0\n",
              "purchasedItemCount           0\n",
              "rewardsReceiptItemList     440\n",
              "rewardsReceiptStatus         0\n",
              "totalSpent                   0\n",
              "userId                       0\n",
              "dtype: int64"
            ]
          },
          "metadata": {},
          "execution_count": 40
        }
      ]
    },
    {
      "cell_type": "code",
      "source": [
        "receipts_df.duplicated('_id_$oid').sum()"
      ],
      "metadata": {
        "colab": {
          "base_uri": "https://localhost:8080/"
        },
        "id": "hpKqOFRJ46Do",
        "outputId": "87be12be-4af2-41f3-bce7-e86c78b14580"
      },
      "execution_count": 41,
      "outputs": [
        {
          "output_type": "execute_result",
          "data": {
            "text/plain": [
              "0"
            ]
          },
          "metadata": {},
          "execution_count": 41
        }
      ]
    },
    {
      "cell_type": "code",
      "source": [
        "date_columns = ['createDate_$date', 'dateScanned_$date', 'finishedDate_$date',\n",
        "                'modifyDate_$date', 'pointsAwardedDate_$date', 'purchaseDate_$date']\n",
        "\n",
        "for column in date_columns:\n",
        "    receipts_df[column] = pd.to_datetime(receipts_df[column], unit='ms').dt.strftime('%Y-%m-%d %H:%M:%S')"
      ],
      "metadata": {
        "id": "7NUC3i9V5Szb"
      },
      "execution_count": 42,
      "outputs": []
    },
    {
      "source": [
        "receipts_df.groupby('rewardsReceiptStatus').size().plot(kind='barh', color=sns.palettes.mpl_palette('Dark2'))\n",
        "plt.gca().spines[['top', 'right',]].set_visible(False)"
      ],
      "cell_type": "code",
      "execution_count": 43,
      "outputs": [
        {
          "output_type": "display_data",
          "data": {
            "text/plain": [
              "<Figure size 640x480 with 1 Axes>"
            ],
            "image/png": "[encoded data removed]"
          },
          "metadata": {}
        }
      ],
      "metadata": {
        "colab": {
          "base_uri": "https://localhost:8080/",
          "height": 430
        },
        "id": "SSfC_F-i53Wp",
        "outputId": "da3ca122-5e4f-4e2a-d828-336479623306"
      }
    },
    {
      "cell_type": "code",
      "source": [
        "receipts_df.dtypes"
      ],
      "metadata": {
        "colab": {
          "base_uri": "https://localhost:8080/"
        },
        "id": "Kraa_yRH6Yw5",
        "outputId": "d7fb2901-cdcc-4ed6-b22d-25d664c99472"
      },
      "execution_count": 44,
      "outputs": [
        {
          "output_type": "execute_result",
          "data": {
            "text/plain": [
              "_id_$oid                    object\n",
              "bonusPointsEarned          float64\n",
              "bonusPointsEarnedReason     object\n",
              "createDate_$date            object\n",
              "dateScanned_$date           object\n",
              "finishedDate_$date          object\n",
              "modifyDate_$date            object\n",
              "pointsAwardedDate_$date     object\n",
              "pointsEarned                object\n",
              "purchaseDate_$date          object\n",
              "purchasedItemCount         float64\n",
              "rewardsReceiptItemList      object\n",
              "rewardsReceiptStatus        object\n",
              "totalSpent                  object\n",
              "userId                      object\n",
              "dtype: object"
            ]
          },
          "metadata": {},
          "execution_count": 44
        }
      ]
    },
    {
      "cell_type": "markdown",
      "source": [
        "This is where I exploded the inner json file to create a separate dataset by the name Item_List. This contains all the details of the inner json.\n",
        "\n",
        "I have linked it to the parent file by adding the unique id (_id$oid) so that I can map it back to the parent dataset."
      ],
      "metadata": {
        "id": "3_ulH8KxMTbx"
      }
    },
    {
      "cell_type": "code",
      "source": [
        "from pandas import json_normalize\n",
        "\n",
        "receipts_copy = receipts_df.copy()\n",
        "\n",
        "receipts_copy['rewardsReceiptItemList'] = receipts_copy['rewardsReceiptItemList'].apply(lambda x: x if isinstance(x, list) else [])\n",
        "\n",
        "receipts_copy = receipts_copy[receipts_copy['rewardsReceiptItemList'].map(len) > 0]\n",
        "\n",
        "expanded_items_list = json_normalize(data=receipts_copy.explode('rewardsReceiptItemList')['rewardsReceiptItemList'], sep='_')\n",
        "\n",
        "rewards_receipt_item_list_df = expanded_items_list.copy()\n",
        "rewards_receipt_item_list_df['_id_$oid'] = receipts_copy['_id_$oid'].reindex(receipts_copy.index.repeat(receipts_copy['rewardsReceiptItemList'].str.len())).reset_index(drop=True)"
      ],
      "metadata": {
        "id": "S-owN3zZ7vL9"
      },
      "execution_count": 46,
      "outputs": []
    },
    {
      "cell_type": "code",
      "source": [
        "rewards_receipt_item_list_df.head()"
      ],
      "metadata": {
        "colab": {
          "base_uri": "https://localhost:8080/",
          "height": 377
        },
        "id": "2UBu0zSP8ZjP",
        "outputId": "d2d16047-4edb-43a9-9f52-7fda38ed2540"
      },
      "execution_count": 47,
      "outputs": [
        {
          "output_type": "execute_result",
          "data": {
            "text/plain": [
              "        barcode                                        description finalPrice  \\\n",
              "0          4011                                     ITEM NOT FOUND      26.00   \n",
              "1          4011                                     ITEM NOT FOUND          1   \n",
              "2  028400642255  DORITOS TORTILLA CHIP SPICY SWEET CHILI REDUCE...      10.00   \n",
              "3           NaN                                                NaN        NaN   \n",
              "4          4011                                     ITEM NOT FOUND      28.00   \n",
              "\n",
              "  itemPrice needsFetchReview partnerItemId preventTargetGapPoints  \\\n",
              "0     26.00            False             1                   True   \n",
              "1         1              NaN             1                    NaN   \n",
              "2     10.00             True             2                   True   \n",
              "3       NaN            False             1                   True   \n",
              "4     28.00            False             1                   True   \n",
              "\n",
              "   quantityPurchased userFlaggedBarcode userFlaggedNewItem  ...  \\\n",
              "0                5.0               4011               True  ...   \n",
              "1                1.0                NaN                NaN  ...   \n",
              "2                1.0       028400642255               True  ...   \n",
              "3                NaN               4011               True  ...   \n",
              "4                4.0               4011               True  ...   \n",
              "\n",
              "  originalMetaBriteQuantityPurchased  pointsEarned targetPrice  \\\n",
              "0                                NaN           NaN         NaN   \n",
              "1                                NaN           NaN         NaN   \n",
              "2                                NaN           NaN         NaN   \n",
              "3                                NaN           NaN         NaN   \n",
              "4                                NaN           NaN         NaN   \n",
              "\n",
              "  competitiveProduct originalFinalPrice originalMetaBriteItemPrice deleted  \\\n",
              "0                NaN                NaN                        NaN     NaN   \n",
              "1                NaN                NaN                        NaN     NaN   \n",
              "2                NaN                NaN                        NaN     NaN   \n",
              "3                NaN                NaN                        NaN     NaN   \n",
              "4                NaN                NaN                        NaN     NaN   \n",
              "\n",
              "  priceAfterCoupon metabriteCampaignId                  _id_$oid  \n",
              "0              NaN                 NaN  5ff1e1eb0a720f0523000575  \n",
              "1              NaN                 NaN  5ff1e1bb0a720f052300056b  \n",
              "2              NaN                 NaN  5ff1e1bb0a720f052300056b  \n",
              "3              NaN                 NaN  5ff1e1f10a720f052300057a  \n",
              "4              NaN                 NaN  5ff1e1ee0a7214ada100056f  \n",
              "\n",
              "[5 rows x 35 columns]"
            ],
            "text/html": [
              "\n",
              "  <div id=\"df-cee9e2aa-fb8f-4847-a5c9-319c967564e6\" class=\"colab-df-container\">\n",
              "    <div>\n",
              "<style scoped>\n",
              "    .dataframe tbody tr th:only-of-type {\n",
              "        vertical-align: middle;\n",
              "    }\n",
              "\n",
              "    .dataframe tbody tr th {\n",
              "        vertical-align: top;\n",
              "    }\n",
              "\n",
              "    .dataframe thead th {\n",
              "        text-align: right;\n",
              "    }\n",
              "</style>\n",
              "<table border=\"1\" class=\"dataframe\">\n",
              "  <thead>\n",
              "    <tr style=\"text-align: right;\">\n",
              "      <th></th>\n",
              "      <th>barcode</th>\n",
              "      <th>description</th>\n",
              "      <th>finalPrice</th>\n",
              "      <th>itemPrice</th>\n",
              "      <th>needsFetchReview</th>\n",
              "      <th>partnerItemId</th>\n",
              "      <th>preventTargetGapPoints</th>\n",
              "      <th>quantityPurchased</th>\n",
              "      <th>userFlaggedBarcode</th>\n",
              "      <th>userFlaggedNewItem</th>\n",
              "      <th>...</th>\n",
              "      <th>originalMetaBriteQuantityPurchased</th>\n",
              "      <th>pointsEarned</th>\n",
              "      <th>targetPrice</th>\n",
              "      <th>competitiveProduct</th>\n",
              "      <th>originalFinalPrice</th>\n",
              "      <th>originalMetaBriteItemPrice</th>\n",
              "      <th>deleted</th>\n",
              "      <th>priceAfterCoupon</th>\n",
              "      <th>metabriteCampaignId</th>\n",
              "      <th>_id_$oid</th>\n",
              "    </tr>\n",
              "  </thead>\n",
              "  <tbody>\n",
              "    <tr>\n",
              "      <th>0</th>\n",
              "      <td>4011</td>\n",
              "      <td>ITEM NOT FOUND</td>\n",
              "      <td>26.00</td>\n",
              "      <td>26.00</td>\n",
              "      <td>False</td>\n",
              "      <td>1</td>\n",
              "      <td>True</td>\n",
              "      <td>5.0</td>\n",
              "      <td>4011</td>\n",
              "      <td>True</td>\n",
              "      <td>...</td>\n",
              "      <td>NaN</td>\n",
              "      <td>NaN</td>\n",
              "      <td>NaN</td>\n",
              "      <td>NaN</td>\n",
              "      <td>NaN</td>\n",
              "      <td>NaN</td>\n",
              "      <td>NaN</td>\n",
              "      <td>NaN</td>\n",
              "      <td>NaN</td>\n",
              "      <td>5ff1e1eb0a720f0523000575</td>\n",
              "    </tr>\n",
              "    <tr>\n",
              "      <th>1</th>\n",
              "      <td>4011</td>\n",
              "      <td>ITEM NOT FOUND</td>\n",
              "      <td>1</td>\n",
              "      <td>1</td>\n",
              "      <td>NaN</td>\n",
              "      <td>1</td>\n",
              "      <td>NaN</td>\n",
              "      <td>1.0</td>\n",
              "      <td>NaN</td>\n",
              "      <td>NaN</td>\n",
              "      <td>...</td>\n",
              "      <td>NaN</td>\n",
              "      <td>NaN</td>\n",
              "      <td>NaN</td>\n",
              "      <td>NaN</td>\n",
              "      <td>NaN</td>\n",
              "      <td>NaN</td>\n",
              "      <td>NaN</td>\n",
              "      <td>NaN</td>\n",
              "      <td>NaN</td>\n",
              "      <td>5ff1e1bb0a720f052300056b</td>\n",
              "    </tr>\n",
              "    <tr>\n",
              "      <th>2</th>\n",
              "      <td>028400642255</td>\n",
              "      <td>DORITOS TORTILLA CHIP SPICY SWEET CHILI REDUCE...</td>\n",
              "      <td>10.00</td>\n",
              "      <td>10.00</td>\n",
              "      <td>True</td>\n",
              "      <td>2</td>\n",
              "      <td>True</td>\n",
              "      <td>1.0</td>\n",
              "      <td>028400642255</td>\n",
              "      <td>True</td>\n",
              "      <td>...</td>\n",
              "      <td>NaN</td>\n",
              "      <td>NaN</td>\n",
              "      <td>NaN</td>\n",
              "      <td>NaN</td>\n",
              "      <td>NaN</td>\n",
              "      <td>NaN</td>\n",
              "      <td>NaN</td>\n",
              "      <td>NaN</td>\n",
              "      <td>NaN</td>\n",
              "      <td>5ff1e1bb0a720f052300056b</td>\n",
              "    </tr>\n",
              "    <tr>\n",
              "      <th>3</th>\n",
              "      <td>NaN</td>\n",
              "      <td>NaN</td>\n",
              "      <td>NaN</td>\n",
              "      <td>NaN</td>\n",
              "      <td>False</td>\n",
              "      <td>1</td>\n",
              "      <td>True</td>\n",
              "      <td>NaN</td>\n",
              "      <td>4011</td>\n",
              "      <td>True</td>\n",
              "      <td>...</td>\n",
              "      <td>NaN</td>\n",
              "      <td>NaN</td>\n",
              "      <td>NaN</td>\n",
              "      <td>NaN</td>\n",
              "      <td>NaN</td>\n",
              "      <td>NaN</td>\n",
              "      <td>NaN</td>\n",
              "      <td>NaN</td>\n",
              "      <td>NaN</td>\n",
              "      <td>5ff1e1f10a720f052300057a</td>\n",
              "    </tr>\n",
              "    <tr>\n",
              "      <th>4</th>\n",
              "      <td>4011</td>\n",
              "      <td>ITEM NOT FOUND</td>\n",
              "      <td>28.00</td>\n",
              "      <td>28.00</td>\n",
              "      <td>False</td>\n",
              "      <td>1</td>\n",
              "      <td>True</td>\n",
              "      <td>4.0</td>\n",
              "      <td>4011</td>\n",
              "      <td>True</td>\n",
              "      <td>...</td>\n",
              "      <td>NaN</td>\n",
              "      <td>NaN</td>\n",
              "      <td>NaN</td>\n",
              "      <td>NaN</td>\n",
              "      <td>NaN</td>\n",
              "      <td>NaN</td>\n",
              "      <td>NaN</td>\n",
              "      <td>NaN</td>\n",
              "      <td>NaN</td>\n",
              "      <td>5ff1e1ee0a7214ada100056f</td>\n",
              "    </tr>\n",
              "  </tbody>\n",
              "</table>\n",
              "<p>5 rows × 35 columns</p>\n",
              "</div>\n",
              "    <div class=\"colab-df-buttons\">\n",
              "\n",
              "  <div class=\"colab-df-container\">\n",
              "    <button class=\"colab-df-convert\" onclick=\"convertToInteractive('df-cee9e2aa-fb8f-4847-a5c9-319c967564e6')\"\n",
              "            title=\"Convert this dataframe to an interactive table.\"\n",
              "            style=\"display:none;\">\n",
              "\n",
              "  <svg xmlns=\"http://www.w3.org/2000/svg\" height=\"24px\" viewBox=\"0 -960 960 960\">\n",
              "    <path d=\"M120-120v-720h720v720H120Zm60-500h600v-160H180v160Zm220 220h160v-160H400v160Zm0 220h160v-160H400v160ZM180-400h160v-160H180v160Zm440 0h160v-160H620v160ZM180-180h160v-160H180v160Zm440 0h160v-160H620v160Z\"/>\n",
              "  </svg>\n",
              "    </button>\n",
              "\n",
              "  <style>\n",
              "    .colab-df-container {\n",
              "      display:flex;\n",
              "      gap: 12px;\n",
              "    }\n",
              "\n",
              "    .colab-df-convert {\n",
              "      background-color: #E8F0FE;\n",
              "      border: none;\n",
              "      border-radius: 50%;\n",
              "      cursor: pointer;\n",
              "      display: none;\n",
              "      fill: #1967D2;\n",
              "      height: 32px;\n",
              "      padding: 0 0 0 0;\n",
              "      width: 32px;\n",
              "    }\n",
              "\n",
              "    .colab-df-convert:hover {\n",
              "      background-color: #E2EBFA;\n",
              "      box-shadow: 0px 1px 2px rgba(60, 64, 67, 0.3), 0px 1px 3px 1px rgba(60, 64, 67, 0.15);\n",
              "      fill: #174EA6;\n",
              "    }\n",
              "\n",
              "    .colab-df-buttons div {\n",
              "      margin-bottom: 4px;\n",
              "    }\n",
              "\n",
              "    [theme=dark] .colab-df-convert {\n",
              "      background-color: #3B4455;\n",
              "      fill: #D2E3FC;\n",
              "    }\n",
              "\n",
              "    [theme=dark] .colab-df-convert:hover {\n",
              "      background-color: #434B5C;\n",
              "      box-shadow: 0px 1px 3px 1px rgba(0, 0, 0, 0.15);\n",
              "      filter: drop-shadow(0px 1px 2px rgba(0, 0, 0, 0.3));\n",
              "      fill: #FFFFFF;\n",
              "    }\n",
              "  </style>\n",
              "\n",
              "    <script>\n",
              "      const buttonEl =\n",
              "        document.querySelector('#df-cee9e2aa-fb8f-4847-a5c9-319c967564e6 button.colab-df-convert');\n",
              "      buttonEl.style.display =\n",
              "        google.colab.kernel.accessAllowed ? 'block' : 'none';\n",
              "\n",
              "      async function convertToInteractive(key) {\n",
              "        const element = document.querySelector('#df-cee9e2aa-fb8f-4847-a5c9-319c967564e6');\n",
              "        const dataTable =\n",
              "          await google.colab.kernel.invokeFunction('convertToInteractive',\n",
              "                                                    [key], {});\n",
              "        if (!dataTable) return;\n",
              "\n",
              "        const docLinkHtml = 'Like what you see? Visit the ' +\n",
              "          '<a target=\"_blank\" href=https://colab.research.google.com/notebooks/data_table.ipynb>data table notebook</a>'\n",
              "          + ' to learn more about interactive tables.';\n",
              "        element.innerHTML = '';\n",
              "        dataTable['output_type'] = 'display_data';\n",
              "        await google.colab.output.renderOutput(dataTable, element);\n",
              "        const docLink = document.createElement('div');\n",
              "        docLink.innerHTML = docLinkHtml;\n",
              "        element.appendChild(docLink);\n",
              "      }\n",
              "    </script>\n",
              "  </div>\n",
              "\n",
              "\n",
              "<div id=\"df-5ab5f499-a99d-453a-938e-de3a77187ad2\">\n",
              "  <button class=\"colab-df-quickchart\" onclick=\"quickchart('df-5ab5f499-a99d-453a-938e-de3a77187ad2')\"\n",
              "            title=\"Suggest charts\"\n",
              "            style=\"display:none;\">\n",
              "\n",
              "<svg xmlns=\"http://www.w3.org/2000/svg\" height=\"24px\"viewBox=\"0 0 24 24\"\n",
              "     width=\"24px\">\n",
              "    <g>\n",
              "        <path d=\"M19 3H5c-1.1 0-2 .9-2 2v14c0 1.1.9 2 2 2h14c1.1 0 2-.9 2-2V5c0-1.1-.9-2-2-2zM9 17H7v-7h2v7zm4 0h-2V7h2v10zm4 0h-2v-4h2v4z\"/>\n",
              "    </g>\n",
              "</svg>\n",
              "  </button>\n",
              "\n",
              "<style>\n",
              "  .colab-df-quickchart {\n",
              "      --bg-color: #E8F0FE;\n",
              "      --fill-color: #1967D2;\n",
              "      --hover-bg-color: #E2EBFA;\n",
              "      --hover-fill-color: #174EA6;\n",
              "      --disabled-fill-color: #AAA;\n",
              "      --disabled-bg-color: #DDD;\n",
              "  }\n",
              "\n",
              "  [theme=dark] .colab-df-quickchart {\n",
              "      --bg-color: #3B4455;\n",
              "      --fill-color: #D2E3FC;\n",
              "      --hover-bg-color: #434B5C;\n",
              "      --hover-fill-color: #FFFFFF;\n",
              "      --disabled-bg-color: #3B4455;\n",
              "      --disabled-fill-color: #666;\n",
              "  }\n",
              "\n",
              "  .colab-df-quickchart {\n",
              "    background-color: var(--bg-color);\n",
              "    border: none;\n",
              "    border-radius: 50%;\n",
              "    cursor: pointer;\n",
              "    display: none;\n",
              "    fill: var(--fill-color);\n",
              "    height: 32px;\n",
              "    padding: 0;\n",
              "    width: 32px;\n",
              "  }\n",
              "\n",
              "  .colab-df-quickchart:hover {\n",
              "    background-color: var(--hover-bg-color);\n",
              "    box-shadow: 0 1px 2px rgba(60, 64, 67, 0.3), 0 1px 3px 1px rgba(60, 64, 67, 0.15);\n",
              "    fill: var(--button-hover-fill-color);\n",
              "  }\n",
              "\n",
              "  .colab-df-quickchart-complete:disabled,\n",
              "  .colab-df-quickchart-complete:disabled:hover {\n",
              "    background-color: var(--disabled-bg-color);\n",
              "    fill: var(--disabled-fill-color);\n",
              "    box-shadow: none;\n",
              "  }\n",
              "\n",
              "  .colab-df-spinner {\n",
              "    border: 2px solid var(--fill-color);\n",
              "    border-color: transparent;\n",
              "    border-bottom-color: var(--fill-color);\n",
              "    animation:\n",
              "      spin 1s steps(1) infinite;\n",
              "  }\n",
              "\n",
              "  @keyframes spin {\n",
              "    0% {\n",
              "      border-color: transparent;\n",
              "      border-bottom-color: var(--fill-color);\n",
              "      border-left-color: var(--fill-color);\n",
              "    }\n",
              "    20% {\n",
              "      border-color: transparent;\n",
              "      border-left-color: var(--fill-color);\n",
              "      border-top-color: var(--fill-color);\n",
              "    }\n",
              "    30% {\n",
              "      border-color: transparent;\n",
              "      border-left-color: var(--fill-color);\n",
              "      border-top-color: var(--fill-color);\n",
              "      border-right-color: var(--fill-color);\n",
              "    }\n",
              "    40% {\n",
              "      border-color: transparent;\n",
              "      border-right-color: var(--fill-color);\n",
              "      border-top-color: var(--fill-color);\n",
              "    }\n",
              "    60% {\n",
              "      border-color: transparent;\n",
              "      border-right-color: var(--fill-color);\n",
              "    }\n",
              "    80% {\n",
              "      border-color: transparent;\n",
              "      border-right-color: var(--fill-color);\n",
              "      border-bottom-color: var(--fill-color);\n",
              "    }\n",
              "    90% {\n",
              "      border-color: transparent;\n",
              "      border-bottom-color: var(--fill-color);\n",
              "    }\n",
              "  }\n",
              "</style>\n",
              "\n",
              "  <script>\n",
              "    async function quickchart(key) {\n",
              "      const quickchartButtonEl =\n",
              "        document.querySelector('#' + key + ' button');\n",
              "      quickchartButtonEl.disabled = true;  // To prevent multiple clicks.\n",
              "      quickchartButtonEl.classList.add('colab-df-spinner');\n",
              "      try {\n",
              "        const charts = await google.colab.kernel.invokeFunction(\n",
              "            'suggestCharts', [key], {});\n",
              "      } catch (error) {\n",
              "        console.error('Error during call to suggestCharts:', error);\n",
              "      }\n",
              "      quickchartButtonEl.classList.remove('colab-df-spinner');\n",
              "      quickchartButtonEl.classList.add('colab-df-quickchart-complete');\n",
              "    }\n",
              "    (() => {\n",
              "      let quickchartButtonEl =\n",
              "        document.querySelector('#df-5ab5f499-a99d-453a-938e-de3a77187ad2 button');\n",
              "      quickchartButtonEl.style.display =\n",
              "        google.colab.kernel.accessAllowed ? 'block' : 'none';\n",
              "    })();\n",
              "  </script>\n",
              "</div>\n",
              "\n",
              "    </div>\n",
              "  </div>\n"
            ],
            "application/vnd.google.colaboratory.intrinsic+json": {
              "type": "dataframe",
              "variable_name": "rewards_receipt_item_list_df"
            }
          },
          "metadata": {},
          "execution_count": 47
        }
      ]
    },
    {
      "cell_type": "markdown",
      "source": [
        "This also has a lot of null values and the datatypes needed to be typecasted to the default datatypes of the import wizard.\n",
        "\n",
        "I cleaned the barcode by removing unnecessary characters which were with the interger number. Also, wherever prices / costs were not given, I filled them to be zero as zero prices make more sense than null prices, in this case."
      ],
      "metadata": {
        "id": "ZpRiaNHKNTAl"
      }
    },
    {
      "cell_type": "code",
      "source": [
        "rewards_receipt_item_list_df['originalMetaBriteItemPrice'].unique()"
      ],
      "metadata": {
        "colab": {
          "base_uri": "https://localhost:8080/"
        },
        "id": "WrpjyvkYajGN",
        "outputId": "cc2a6846-62f5-4d15-e5aa-be046318df0b"
      },
      "execution_count": 48,
      "outputs": [
        {
          "output_type": "execute_result",
          "data": {
            "text/plain": [
              "array([nan, '10.00', '1.00'], dtype=object)"
            ]
          },
          "metadata": {},
          "execution_count": 48
        }
      ]
    },
    {
      "cell_type": "code",
      "source": [
        "receipts_df = receipts_df.drop(columns=['rewardsReceiptItemList'])"
      ],
      "metadata": {
        "id": "vhinaW7v8zEi"
      },
      "execution_count": 49,
      "outputs": []
    },
    {
      "cell_type": "code",
      "source": [
        "csv_name3 = 'receipts.csv'\n",
        "receipts_df.to_csv(csv_name3, encoding = 'utf-8', index=False)"
      ],
      "metadata": {
        "id": "FK_Oqub388jP"
      },
      "execution_count": 50,
      "outputs": []
    },
    {
      "cell_type": "code",
      "source": [
        "rewards_receipt_item_list_df['needsFetchReview'] = rewards_receipt_item_list_df['needsFetchReview'].fillna(False)\n",
        "rewards_receipt_item_list_df['needsFetchReview'] = rewards_receipt_item_list_df['needsFetchReview'].astype(int)\n",
        "\n",
        "rewards_receipt_item_list_df['userFlaggedNewItem'] = rewards_receipt_item_list_df['userFlaggedNewItem'].fillna(False)\n",
        "rewards_receipt_item_list_df['userFlaggedNewItem'] = rewards_receipt_item_list_df['userFlaggedNewItem'].astype(int)\n",
        "\n",
        "rewards_receipt_item_list_df['deleted'] = rewards_receipt_item_list_df['deleted'].fillna(False)\n",
        "rewards_receipt_item_list_df['deleted'] = rewards_receipt_item_list_df['deleted'].astype(int)\n",
        "\n",
        "rewards_receipt_item_list_df['preventTargetGapPoints'] = rewards_receipt_item_list_df['preventTargetGapPoints'].fillna(False)\n",
        "rewards_receipt_item_list_df['preventTargetGapPoints'] = rewards_receipt_item_list_df['preventTargetGapPoints'].astype(int)\n",
        "\n",
        "rewards_receipt_item_list_df['competitiveProduct'] = rewards_receipt_item_list_df['competitiveProduct'].fillna(False)\n",
        "rewards_receipt_item_list_df['competitiveProduct'] = rewards_receipt_item_list_df['competitiveProduct' ].astype(int)\n",
        "\n",
        "rewards_receipt_item_list_df['pointsEarned'] = rewards_receipt_item_list_df['pointsEarned' ].fillna(0)"
      ],
      "metadata": {
        "id": "Xf5l2I_hZu7q"
      },
      "execution_count": 51,
      "outputs": []
    },
    {
      "cell_type": "code",
      "source": [
        "rewards_receipt_item_list_df['barcode'] = rewards_receipt_item_list_df['barcode'].str.replace(\"'\",'')\n",
        "rewards_receipt_item_list_df['barcode'] = rewards_receipt_item_list_df['barcode'].astype(str)\n",
        "rewards_receipt_item_list_df['barcode'] = rewards_receipt_item_list_df['barcode'].str.replace('nan', '')"
      ],
      "metadata": {
        "id": "l_-D_Ne51EZK"
      },
      "execution_count": 52,
      "outputs": []
    },
    {
      "cell_type": "code",
      "source": [
        "rewards_receipt_item_list_df['barcode']"
      ],
      "metadata": {
        "colab": {
          "base_uri": "https://localhost:8080/"
        },
        "id": "l8vEx5-84DfW",
        "outputId": "10385b29-c136-41ec-f4a9-90c7123584fb"
      },
      "execution_count": 53,
      "outputs": [
        {
          "output_type": "execute_result",
          "data": {
            "text/plain": [
              "0               4011\n",
              "1               4011\n",
              "2       028400642255\n",
              "3                   \n",
              "4               4011\n",
              "            ...     \n",
              "6936      B07BRRLSVC\n",
              "6937      B076FJ92M4\n",
              "6938      B07BRRLSVC\n",
              "6939      B076FJ92M4\n",
              "6940      B07BRRLSVC\n",
              "Name: barcode, Length: 6941, dtype: object"
            ]
          },
          "metadata": {},
          "execution_count": 53
        }
      ]
    },
    {
      "cell_type": "code",
      "source": [
        "rewards_receipt_item_list_df.isnull().sum()"
      ],
      "metadata": {
        "colab": {
          "base_uri": "https://localhost:8080/"
        },
        "id": "v6a47amL9PPr",
        "outputId": "9a6f3fa8-de6b-49e8-a9b1-4b4339285cd8"
      },
      "execution_count": 54,
      "outputs": [
        {
          "output_type": "execute_result",
          "data": {
            "text/plain": [
              "barcode                                  0\n",
              "description                            381\n",
              "finalPrice                             174\n",
              "itemPrice                              174\n",
              "needsFetchReview                         0\n",
              "partnerItemId                            0\n",
              "preventTargetGapPoints                   0\n",
              "quantityPurchased                      174\n",
              "userFlaggedBarcode                    6604\n",
              "userFlaggedNewItem                       0\n",
              "userFlaggedPrice                      6642\n",
              "userFlaggedQuantity                   6642\n",
              "needsFetchReviewReason                6722\n",
              "pointsNotAwardedReason                6601\n",
              "pointsPayerId                         5674\n",
              "rewardsGroup                          5210\n",
              "rewardsProductPartnerId               4672\n",
              "userFlaggedDescription                6736\n",
              "originalMetaBriteBarcode              6870\n",
              "originalMetaBriteDescription          6931\n",
              "brandCode                             4341\n",
              "competitorRewardsGroup                6666\n",
              "discountedItemPrice                   1172\n",
              "originalReceiptItemText               1181\n",
              "itemNumber                            6788\n",
              "originalMetaBriteQuantityPurchased    6926\n",
              "pointsEarned                             0\n",
              "targetPrice                           6563\n",
              "competitiveProduct                       0\n",
              "originalFinalPrice                    6932\n",
              "originalMetaBriteItemPrice            6932\n",
              "deleted                                  0\n",
              "priceAfterCoupon                      5985\n",
              "metabriteCampaignId                   6078\n",
              "_id_$oid                                 0\n",
              "dtype: int64"
            ]
          },
          "metadata": {},
          "execution_count": 54
        }
      ]
    },
    {
      "cell_type": "code",
      "source": [
        "csv_name4 = 'Item_List.csv'\n",
        "rewards_receipt_item_list_df.to_csv(csv_name4, encoding = 'utf-8', index=False)"
      ],
      "metadata": {
        "id": "RhVGSLvl9AFb"
      },
      "execution_count": 55,
      "outputs": []
    }
  ]
}